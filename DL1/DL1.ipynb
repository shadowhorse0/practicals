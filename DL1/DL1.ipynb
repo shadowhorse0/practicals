{
 "cells": [
  {
   "cell_type": "code",
   "execution_count": 167,
   "id": "73f54057",
   "metadata": {},
   "outputs": [],
   "source": [
    "import pandas as pd"
   ]
  },
  {
   "cell_type": "code",
   "execution_count": 186,
   "id": "89333e78",
   "metadata": {},
   "outputs": [
    {
     "name": "stdout",
     "output_type": "stream",
     "text": [
      "DL1.ipynb  housing.csv  HousingData.csv\r\n"
     ]
    }
   ],
   "source": [
    "ls"
   ]
  },
  {
   "cell_type": "code",
   "execution_count": 168,
   "id": "86b72e79",
   "metadata": {},
   "outputs": [],
   "source": [
    "df = pd.read_csv('HousingData.csv')"
   ]
  },
  {
   "cell_type": "code",
   "execution_count": 169,
   "id": "cabf7ab1",
   "metadata": {},
   "outputs": [
    {
     "data": {
      "text/html": [
       "<div>\n",
       "<style scoped>\n",
       "    .dataframe tbody tr th:only-of-type {\n",
       "        vertical-align: middle;\n",
       "    }\n",
       "\n",
       "    .dataframe tbody tr th {\n",
       "        vertical-align: top;\n",
       "    }\n",
       "\n",
       "    .dataframe thead th {\n",
       "        text-align: right;\n",
       "    }\n",
       "</style>\n",
       "<table border=\"1\" class=\"dataframe\">\n",
       "  <thead>\n",
       "    <tr style=\"text-align: right;\">\n",
       "      <th></th>\n",
       "      <th>CRIM</th>\n",
       "      <th>ZN</th>\n",
       "      <th>INDUS</th>\n",
       "      <th>CHAS</th>\n",
       "      <th>NOX</th>\n",
       "      <th>RM</th>\n",
       "      <th>AGE</th>\n",
       "      <th>DIS</th>\n",
       "      <th>RAD</th>\n",
       "      <th>TAX</th>\n",
       "      <th>PTRATIO</th>\n",
       "      <th>B</th>\n",
       "      <th>LSTAT</th>\n",
       "      <th>MEDV</th>\n",
       "    </tr>\n",
       "  </thead>\n",
       "  <tbody>\n",
       "    <tr>\n",
       "      <th>0</th>\n",
       "      <td>0.00632</td>\n",
       "      <td>18.0</td>\n",
       "      <td>2.31</td>\n",
       "      <td>0.0</td>\n",
       "      <td>0.538</td>\n",
       "      <td>6.575</td>\n",
       "      <td>65.2</td>\n",
       "      <td>4.0900</td>\n",
       "      <td>1</td>\n",
       "      <td>296</td>\n",
       "      <td>15.3</td>\n",
       "      <td>396.90</td>\n",
       "      <td>4.98</td>\n",
       "      <td>24.0</td>\n",
       "    </tr>\n",
       "    <tr>\n",
       "      <th>1</th>\n",
       "      <td>0.02731</td>\n",
       "      <td>0.0</td>\n",
       "      <td>7.07</td>\n",
       "      <td>0.0</td>\n",
       "      <td>0.469</td>\n",
       "      <td>6.421</td>\n",
       "      <td>78.9</td>\n",
       "      <td>4.9671</td>\n",
       "      <td>2</td>\n",
       "      <td>242</td>\n",
       "      <td>17.8</td>\n",
       "      <td>396.90</td>\n",
       "      <td>9.14</td>\n",
       "      <td>21.6</td>\n",
       "    </tr>\n",
       "    <tr>\n",
       "      <th>2</th>\n",
       "      <td>0.02729</td>\n",
       "      <td>0.0</td>\n",
       "      <td>7.07</td>\n",
       "      <td>0.0</td>\n",
       "      <td>0.469</td>\n",
       "      <td>7.185</td>\n",
       "      <td>61.1</td>\n",
       "      <td>4.9671</td>\n",
       "      <td>2</td>\n",
       "      <td>242</td>\n",
       "      <td>17.8</td>\n",
       "      <td>392.83</td>\n",
       "      <td>4.03</td>\n",
       "      <td>34.7</td>\n",
       "    </tr>\n",
       "    <tr>\n",
       "      <th>3</th>\n",
       "      <td>0.03237</td>\n",
       "      <td>0.0</td>\n",
       "      <td>2.18</td>\n",
       "      <td>0.0</td>\n",
       "      <td>0.458</td>\n",
       "      <td>6.998</td>\n",
       "      <td>45.8</td>\n",
       "      <td>6.0622</td>\n",
       "      <td>3</td>\n",
       "      <td>222</td>\n",
       "      <td>18.7</td>\n",
       "      <td>394.63</td>\n",
       "      <td>2.94</td>\n",
       "      <td>33.4</td>\n",
       "    </tr>\n",
       "    <tr>\n",
       "      <th>4</th>\n",
       "      <td>0.06905</td>\n",
       "      <td>0.0</td>\n",
       "      <td>2.18</td>\n",
       "      <td>0.0</td>\n",
       "      <td>0.458</td>\n",
       "      <td>7.147</td>\n",
       "      <td>54.2</td>\n",
       "      <td>6.0622</td>\n",
       "      <td>3</td>\n",
       "      <td>222</td>\n",
       "      <td>18.7</td>\n",
       "      <td>396.90</td>\n",
       "      <td>NaN</td>\n",
       "      <td>36.2</td>\n",
       "    </tr>\n",
       "  </tbody>\n",
       "</table>\n",
       "</div>"
      ],
      "text/plain": [
       "      CRIM    ZN  INDUS  CHAS    NOX     RM   AGE     DIS  RAD  TAX  PTRATIO   \n",
       "0  0.00632  18.0   2.31   0.0  0.538  6.575  65.2  4.0900    1  296     15.3  \\\n",
       "1  0.02731   0.0   7.07   0.0  0.469  6.421  78.9  4.9671    2  242     17.8   \n",
       "2  0.02729   0.0   7.07   0.0  0.469  7.185  61.1  4.9671    2  242     17.8   \n",
       "3  0.03237   0.0   2.18   0.0  0.458  6.998  45.8  6.0622    3  222     18.7   \n",
       "4  0.06905   0.0   2.18   0.0  0.458  7.147  54.2  6.0622    3  222     18.7   \n",
       "\n",
       "        B  LSTAT  MEDV  \n",
       "0  396.90   4.98  24.0  \n",
       "1  396.90   9.14  21.6  \n",
       "2  392.83   4.03  34.7  \n",
       "3  394.63   2.94  33.4  \n",
       "4  396.90    NaN  36.2  "
      ]
     },
     "execution_count": 169,
     "metadata": {},
     "output_type": "execute_result"
    }
   ],
   "source": [
    "df.head()"
   ]
  },
  {
   "cell_type": "code",
   "execution_count": 170,
   "id": "72aed391",
   "metadata": {},
   "outputs": [],
   "source": [
    "df.dropna(inplace=True)"
   ]
  },
  {
   "cell_type": "code",
   "execution_count": 171,
   "id": "1f520fc0",
   "metadata": {},
   "outputs": [
    {
     "data": {
      "text/plain": [
       "(394, 14)"
      ]
     },
     "execution_count": 171,
     "metadata": {},
     "output_type": "execute_result"
    }
   ],
   "source": [
    "df.shape"
   ]
  },
  {
   "cell_type": "code",
   "execution_count": 172,
   "id": "bb31f559",
   "metadata": {},
   "outputs": [],
   "source": [
    "df_x = df.drop(['MEDV'],axis=1)"
   ]
  },
  {
   "cell_type": "code",
   "execution_count": 173,
   "id": "7509e4db",
   "metadata": {},
   "outputs": [],
   "source": [
    "df_y = df['MEDV']"
   ]
  },
  {
   "cell_type": "code",
   "execution_count": 174,
   "id": "8ee40339",
   "metadata": {},
   "outputs": [],
   "source": [
    "from sklearn.model_selection import train_test_split"
   ]
  },
  {
   "cell_type": "code",
   "execution_count": 175,
   "id": "c81968c6",
   "metadata": {},
   "outputs": [],
   "source": [
    "x_train,x_test,y_train,y_test = train_test_split(df_x,df_y,test_size=0.3,random_state=123)"
   ]
  },
  {
   "cell_type": "code",
   "execution_count": 176,
   "id": "aa861ba2",
   "metadata": {},
   "outputs": [],
   "source": [
    "mean = x_train.mean(axis=0)\n",
    "std = x_train.std(axis=0)\n",
    "x_train = (x_train-mean)/std\n",
    "x_test = (x_test - mean)/std"
   ]
  },
  {
   "cell_type": "code",
   "execution_count": 177,
   "id": "70dc0291",
   "metadata": {},
   "outputs": [],
   "source": [
    "x_train = x_train.astype('float32')\n",
    "x_test = x_test.astype('float32')\n",
    "y_train = y_train.astype('float32')\n",
    "y_test = y_test.astype('float32')"
   ]
  },
  {
   "cell_type": "code",
   "execution_count": 178,
   "id": "53ecef02",
   "metadata": {},
   "outputs": [],
   "source": [
    "from keras.models import Sequential\n",
    "from keras.layers import Dense\n",
    "\n",
    "model = Sequential()\n",
    "model.add(Dense(128,activation='relu',name='dense_1'))\n",
    "model.add(Dense(64,activation='relu',name='dense_2'))\n",
    "model.add(Dense(1,name='dense_output'))\n",
    "\n",
    "model.compile(optimizer = 'adam',loss='mse',metrics=['mae'])\n"
   ]
  },
  {
   "cell_type": "code",
   "execution_count": 179,
   "id": "d107c95c",
   "metadata": {},
   "outputs": [
    {
     "name": "stdout",
     "output_type": "stream",
     "text": [
      "Epoch 1/100\n",
      "9/9 [==============================] - 2s 36ms/step - loss: 557.5364 - mae: 21.7531 - val_loss: 516.1606 - val_mae: 21.2296\n",
      "Epoch 2/100\n",
      "9/9 [==============================] - 0s 13ms/step - loss: 512.8425 - mae: 20.7265 - val_loss: 466.8132 - val_mae: 20.0824\n",
      "Epoch 3/100\n",
      "9/9 [==============================] - 0s 12ms/step - loss: 454.6634 - mae: 19.3674 - val_loss: 401.8263 - val_mae: 18.4861\n",
      "Epoch 4/100\n",
      "9/9 [==============================] - 0s 13ms/step - loss: 378.3826 - mae: 17.4327 - val_loss: 320.2312 - val_mae: 16.4370\n",
      "Epoch 5/100\n",
      "9/9 [==============================] - 0s 14ms/step - loss: 288.5443 - mae: 14.8845 - val_loss: 228.7273 - val_mae: 13.9801\n",
      "Epoch 6/100\n",
      "9/9 [==============================] - 0s 12ms/step - loss: 193.2795 - mae: 11.7639 - val_loss: 142.9359 - val_mae: 10.9109\n",
      "Epoch 7/100\n",
      "9/9 [==============================] - 0s 14ms/step - loss: 116.9860 - mae: 8.6868 - val_loss: 79.2413 - val_mae: 7.8626\n",
      "Epoch 8/100\n",
      "9/9 [==============================] - 0s 13ms/step - loss: 71.6909 - mae: 6.5782 - val_loss: 48.8943 - val_mae: 6.1873\n",
      "Epoch 9/100\n",
      "9/9 [==============================] - 0s 10ms/step - loss: 52.1634 - mae: 5.5773 - val_loss: 33.1580 - val_mae: 5.1765\n",
      "Epoch 10/100\n",
      "9/9 [==============================] - 0s 15ms/step - loss: 39.6895 - mae: 4.8753 - val_loss: 23.0393 - val_mae: 4.2481\n",
      "Epoch 11/100\n",
      "9/9 [==============================] - 0s 16ms/step - loss: 31.1826 - mae: 4.2503 - val_loss: 16.9794 - val_mae: 3.4905\n",
      "Epoch 12/100\n",
      "9/9 [==============================] - 0s 14ms/step - loss: 26.4378 - mae: 3.8251 - val_loss: 14.0792 - val_mae: 3.0024\n",
      "Epoch 13/100\n",
      "9/9 [==============================] - 0s 12ms/step - loss: 23.5844 - mae: 3.5986 - val_loss: 11.4959 - val_mae: 2.6361\n",
      "Epoch 14/100\n",
      "9/9 [==============================] - 0s 13ms/step - loss: 21.4594 - mae: 3.4230 - val_loss: 9.8660 - val_mae: 2.4306\n",
      "Epoch 15/100\n",
      "9/9 [==============================] - 0s 12ms/step - loss: 20.2858 - mae: 3.3317 - val_loss: 8.6526 - val_mae: 2.2889\n",
      "Epoch 16/100\n",
      "9/9 [==============================] - 0s 14ms/step - loss: 19.4620 - mae: 3.2502 - val_loss: 7.8684 - val_mae: 2.2114\n",
      "Epoch 17/100\n",
      "9/9 [==============================] - 0s 14ms/step - loss: 18.6425 - mae: 3.1689 - val_loss: 7.2788 - val_mae: 2.1773\n",
      "Epoch 18/100\n",
      "9/9 [==============================] - 0s 15ms/step - loss: 18.0152 - mae: 3.0975 - val_loss: 6.7070 - val_mae: 2.1405\n",
      "Epoch 19/100\n",
      "9/9 [==============================] - 0s 11ms/step - loss: 17.2730 - mae: 3.0353 - val_loss: 6.1208 - val_mae: 2.0191\n",
      "Epoch 20/100\n",
      "9/9 [==============================] - 0s 12ms/step - loss: 16.5580 - mae: 2.9991 - val_loss: 5.7130 - val_mae: 1.9750\n",
      "Epoch 21/100\n",
      "9/9 [==============================] - 0s 13ms/step - loss: 16.0301 - mae: 2.9381 - val_loss: 5.4166 - val_mae: 1.9382\n",
      "Epoch 22/100\n",
      "9/9 [==============================] - 0s 12ms/step - loss: 15.5743 - mae: 2.8660 - val_loss: 5.2888 - val_mae: 1.9432\n",
      "Epoch 23/100\n",
      "9/9 [==============================] - 0s 16ms/step - loss: 15.0436 - mae: 2.7873 - val_loss: 4.8508 - val_mae: 1.8276\n",
      "Epoch 24/100\n",
      "9/9 [==============================] - 0s 14ms/step - loss: 14.3640 - mae: 2.7709 - val_loss: 4.7813 - val_mae: 1.7984\n",
      "Epoch 25/100\n",
      "9/9 [==============================] - 0s 16ms/step - loss: 14.4158 - mae: 2.7574 - val_loss: 4.7795 - val_mae: 1.8434\n",
      "Epoch 26/100\n",
      "9/9 [==============================] - 0s 16ms/step - loss: 13.7359 - mae: 2.6689 - val_loss: 5.1549 - val_mae: 2.0256\n",
      "Epoch 27/100\n",
      "9/9 [==============================] - 0s 11ms/step - loss: 13.5168 - mae: 2.6125 - val_loss: 4.6703 - val_mae: 1.9195\n",
      "Epoch 28/100\n",
      "9/9 [==============================] - 0s 15ms/step - loss: 13.0810 - mae: 2.5608 - val_loss: 4.1638 - val_mae: 1.7537\n",
      "Epoch 29/100\n",
      "9/9 [==============================] - 0s 15ms/step - loss: 12.7994 - mae: 2.5439 - val_loss: 4.0131 - val_mae: 1.7282\n",
      "Epoch 30/100\n",
      "9/9 [==============================] - 0s 14ms/step - loss: 12.6266 - mae: 2.5354 - val_loss: 3.9551 - val_mae: 1.7326\n",
      "Epoch 31/100\n",
      "9/9 [==============================] - 0s 15ms/step - loss: 12.4938 - mae: 2.5172 - val_loss: 3.8511 - val_mae: 1.7394\n",
      "Epoch 32/100\n",
      "9/9 [==============================] - 0s 14ms/step - loss: 12.1220 - mae: 2.4682 - val_loss: 3.9136 - val_mae: 1.7543\n",
      "Epoch 33/100\n",
      "9/9 [==============================] - 0s 10ms/step - loss: 11.8780 - mae: 2.4451 - val_loss: 3.7995 - val_mae: 1.7129\n",
      "Epoch 34/100\n",
      "9/9 [==============================] - 0s 13ms/step - loss: 11.7056 - mae: 2.4259 - val_loss: 3.7351 - val_mae: 1.6441\n",
      "Epoch 35/100\n",
      "9/9 [==============================] - 0s 12ms/step - loss: 11.5060 - mae: 2.3978 - val_loss: 4.2311 - val_mae: 1.8059\n",
      "Epoch 36/100\n",
      "9/9 [==============================] - 0s 14ms/step - loss: 11.4431 - mae: 2.4103 - val_loss: 4.0465 - val_mae: 1.8088\n",
      "Epoch 37/100\n",
      "9/9 [==============================] - 0s 10ms/step - loss: 11.1487 - mae: 2.3829 - val_loss: 3.7476 - val_mae: 1.5593\n",
      "Epoch 38/100\n",
      "9/9 [==============================] - 0s 15ms/step - loss: 11.0884 - mae: 2.3616 - val_loss: 3.7414 - val_mae: 1.6056\n",
      "Epoch 39/100\n",
      "9/9 [==============================] - 0s 13ms/step - loss: 10.8158 - mae: 2.3203 - val_loss: 3.6828 - val_mae: 1.6967\n",
      "Epoch 40/100\n",
      "9/9 [==============================] - 0s 15ms/step - loss: 10.5578 - mae: 2.2986 - val_loss: 3.5554 - val_mae: 1.6515\n",
      "Epoch 41/100\n",
      "9/9 [==============================] - 0s 15ms/step - loss: 10.4146 - mae: 2.2913 - val_loss: 3.5448 - val_mae: 1.5856\n",
      "Epoch 42/100\n",
      "9/9 [==============================] - 0s 13ms/step - loss: 10.3850 - mae: 2.2881 - val_loss: 3.6180 - val_mae: 1.6295\n",
      "Epoch 43/100\n",
      "9/9 [==============================] - 0s 13ms/step - loss: 10.1710 - mae: 2.2673 - val_loss: 3.7817 - val_mae: 1.7178\n",
      "Epoch 44/100\n",
      "9/9 [==============================] - 0s 15ms/step - loss: 10.1444 - mae: 2.2612 - val_loss: 3.8802 - val_mae: 1.7269\n",
      "Epoch 45/100\n",
      "9/9 [==============================] - 0s 17ms/step - loss: 10.0069 - mae: 2.2421 - val_loss: 3.7644 - val_mae: 1.7054\n",
      "Epoch 46/100\n",
      "9/9 [==============================] - 0s 17ms/step - loss: 9.9239 - mae: 2.2243 - val_loss: 3.5727 - val_mae: 1.6449\n",
      "Epoch 47/100\n",
      "9/9 [==============================] - 0s 12ms/step - loss: 9.7657 - mae: 2.2079 - val_loss: 3.6083 - val_mae: 1.6602\n",
      "Epoch 48/100\n",
      "9/9 [==============================] - 0s 13ms/step - loss: 9.6430 - mae: 2.2066 - val_loss: 3.9811 - val_mae: 1.7579\n",
      "Epoch 49/100\n",
      "9/9 [==============================] - 0s 11ms/step - loss: 9.5718 - mae: 2.1975 - val_loss: 3.9413 - val_mae: 1.7111\n",
      "Epoch 50/100\n",
      "9/9 [==============================] - 0s 10ms/step - loss: 9.5089 - mae: 2.2112 - val_loss: 3.7946 - val_mae: 1.6116\n",
      "Epoch 51/100\n",
      "9/9 [==============================] - 0s 10ms/step - loss: 9.3520 - mae: 2.1882 - val_loss: 3.6602 - val_mae: 1.6089\n",
      "Epoch 52/100\n",
      "9/9 [==============================] - 0s 12ms/step - loss: 9.5320 - mae: 2.1616 - val_loss: 4.0140 - val_mae: 1.6999\n",
      "Epoch 53/100\n",
      "9/9 [==============================] - 0s 14ms/step - loss: 9.6305 - mae: 2.1941 - val_loss: 3.5633 - val_mae: 1.5716\n",
      "Epoch 54/100\n",
      "9/9 [==============================] - 0s 28ms/step - loss: 9.2514 - mae: 2.2086 - val_loss: 3.7769 - val_mae: 1.7054\n",
      "Epoch 55/100\n",
      "9/9 [==============================] - 0s 15ms/step - loss: 9.2275 - mae: 2.2052 - val_loss: 3.6793 - val_mae: 1.7441\n",
      "Epoch 56/100\n",
      "9/9 [==============================] - 0s 15ms/step - loss: 8.9150 - mae: 2.1544 - val_loss: 3.4919 - val_mae: 1.5512\n",
      "Epoch 57/100\n",
      "9/9 [==============================] - 0s 15ms/step - loss: 8.7879 - mae: 2.1397 - val_loss: 3.6559 - val_mae: 1.5763\n",
      "Epoch 58/100\n",
      "9/9 [==============================] - 0s 17ms/step - loss: 8.6024 - mae: 2.1285 - val_loss: 4.2400 - val_mae: 1.7639\n",
      "Epoch 59/100\n",
      "9/9 [==============================] - 0s 16ms/step - loss: 8.7345 - mae: 2.1356 - val_loss: 4.0848 - val_mae: 1.7046\n",
      "Epoch 60/100\n",
      "9/9 [==============================] - 0s 16ms/step - loss: 8.5352 - mae: 2.0964 - val_loss: 3.9096 - val_mae: 1.6788\n",
      "Epoch 61/100\n",
      "9/9 [==============================] - 0s 14ms/step - loss: 8.3657 - mae: 2.0806 - val_loss: 3.9069 - val_mae: 1.6726\n",
      "Epoch 62/100\n",
      "9/9 [==============================] - 0s 15ms/step - loss: 8.2692 - mae: 2.0617 - val_loss: 4.0156 - val_mae: 1.7941\n"
     ]
    },
    {
     "name": "stdout",
     "output_type": "stream",
     "text": [
      "Epoch 63/100\n",
      "9/9 [==============================] - 0s 14ms/step - loss: 8.1969 - mae: 2.0380 - val_loss: 3.8484 - val_mae: 1.7269\n",
      "Epoch 64/100\n",
      "9/9 [==============================] - 0s 13ms/step - loss: 8.1831 - mae: 2.0579 - val_loss: 3.6912 - val_mae: 1.6328\n",
      "Epoch 65/100\n",
      "9/9 [==============================] - 0s 14ms/step - loss: 8.0640 - mae: 2.0441 - val_loss: 3.9611 - val_mae: 1.7410\n",
      "Epoch 66/100\n",
      "9/9 [==============================] - 0s 14ms/step - loss: 8.0221 - mae: 2.0167 - val_loss: 4.0079 - val_mae: 1.7865\n",
      "Epoch 67/100\n",
      "9/9 [==============================] - 0s 14ms/step - loss: 7.9548 - mae: 2.0004 - val_loss: 3.6412 - val_mae: 1.6342\n",
      "Epoch 68/100\n",
      "9/9 [==============================] - 0s 16ms/step - loss: 7.8542 - mae: 2.0257 - val_loss: 3.6164 - val_mae: 1.6253\n",
      "Epoch 69/100\n",
      "9/9 [==============================] - 0s 13ms/step - loss: 7.8974 - mae: 2.0229 - val_loss: 3.7324 - val_mae: 1.7231\n",
      "Epoch 70/100\n",
      "9/9 [==============================] - 0s 14ms/step - loss: 7.7020 - mae: 1.9774 - val_loss: 3.9773 - val_mae: 1.7589\n",
      "Epoch 71/100\n",
      "9/9 [==============================] - 0s 15ms/step - loss: 7.7417 - mae: 1.9913 - val_loss: 4.0365 - val_mae: 1.7576\n",
      "Epoch 72/100\n",
      "9/9 [==============================] - 0s 20ms/step - loss: 7.6553 - mae: 1.9600 - val_loss: 3.9553 - val_mae: 1.7570\n",
      "Epoch 73/100\n",
      "9/9 [==============================] - 0s 15ms/step - loss: 7.5453 - mae: 1.9575 - val_loss: 3.7120 - val_mae: 1.6688\n",
      "Epoch 74/100\n",
      "9/9 [==============================] - 0s 15ms/step - loss: 7.4277 - mae: 1.9491 - val_loss: 3.7973 - val_mae: 1.7248\n",
      "Epoch 75/100\n",
      "9/9 [==============================] - 0s 14ms/step - loss: 7.4435 - mae: 1.9798 - val_loss: 3.5739 - val_mae: 1.6039\n",
      "Epoch 76/100\n",
      "9/9 [==============================] - 0s 17ms/step - loss: 7.3291 - mae: 1.9593 - val_loss: 3.7342 - val_mae: 1.6811\n",
      "Epoch 77/100\n",
      "9/9 [==============================] - 0s 15ms/step - loss: 7.2763 - mae: 1.9529 - val_loss: 3.8570 - val_mae: 1.6871\n",
      "Epoch 78/100\n",
      "9/9 [==============================] - 0s 14ms/step - loss: 7.1975 - mae: 1.9458 - val_loss: 3.9155 - val_mae: 1.7265\n",
      "Epoch 79/100\n",
      "9/9 [==============================] - 0s 14ms/step - loss: 7.1688 - mae: 1.9218 - val_loss: 3.9447 - val_mae: 1.7236\n",
      "Epoch 80/100\n",
      "9/9 [==============================] - 0s 14ms/step - loss: 7.0273 - mae: 1.8972 - val_loss: 4.0496 - val_mae: 1.7868\n",
      "Epoch 81/100\n",
      "9/9 [==============================] - 0s 16ms/step - loss: 7.0235 - mae: 1.8974 - val_loss: 3.8189 - val_mae: 1.7203\n",
      "Epoch 82/100\n",
      "9/9 [==============================] - 0s 15ms/step - loss: 6.9717 - mae: 1.8925 - val_loss: 3.8671 - val_mae: 1.7389\n",
      "Epoch 83/100\n",
      "9/9 [==============================] - 0s 15ms/step - loss: 6.9676 - mae: 1.9205 - val_loss: 3.7077 - val_mae: 1.5965\n",
      "Epoch 84/100\n",
      "9/9 [==============================] - 0s 17ms/step - loss: 6.9337 - mae: 1.9014 - val_loss: 3.9326 - val_mae: 1.7786\n",
      "Epoch 85/100\n",
      "9/9 [==============================] - 0s 16ms/step - loss: 6.8271 - mae: 1.8520 - val_loss: 3.9413 - val_mae: 1.7518\n",
      "Epoch 86/100\n",
      "9/9 [==============================] - 0s 18ms/step - loss: 6.8267 - mae: 1.9004 - val_loss: 3.8120 - val_mae: 1.6513\n",
      "Epoch 87/100\n",
      "9/9 [==============================] - 0s 14ms/step - loss: 6.7128 - mae: 1.8818 - val_loss: 3.7740 - val_mae: 1.6894\n",
      "Epoch 88/100\n",
      "9/9 [==============================] - 0s 15ms/step - loss: 6.5960 - mae: 1.8542 - val_loss: 3.9762 - val_mae: 1.7142\n",
      "Epoch 89/100\n",
      "9/9 [==============================] - 0s 13ms/step - loss: 6.6960 - mae: 1.8680 - val_loss: 4.2170 - val_mae: 1.7805\n",
      "Epoch 90/100\n",
      "9/9 [==============================] - 0s 11ms/step - loss: 6.8272 - mae: 1.9009 - val_loss: 3.7613 - val_mae: 1.6292\n",
      "Epoch 91/100\n",
      "9/9 [==============================] - 0s 13ms/step - loss: 6.7494 - mae: 1.9280 - val_loss: 3.4440 - val_mae: 1.5415\n",
      "Epoch 92/100\n",
      "9/9 [==============================] - 0s 16ms/step - loss: 6.5202 - mae: 1.8356 - val_loss: 3.7590 - val_mae: 1.7608\n",
      "Epoch 93/100\n",
      "9/9 [==============================] - 0s 16ms/step - loss: 6.5449 - mae: 1.8252 - val_loss: 3.7334 - val_mae: 1.6853\n",
      "Epoch 94/100\n",
      "9/9 [==============================] - 0s 15ms/step - loss: 6.4788 - mae: 1.8771 - val_loss: 3.8299 - val_mae: 1.5625\n",
      "Epoch 95/100\n",
      "9/9 [==============================] - 0s 13ms/step - loss: 6.3722 - mae: 1.8423 - val_loss: 4.1007 - val_mae: 1.8097\n",
      "Epoch 96/100\n",
      "9/9 [==============================] - 0s 16ms/step - loss: 6.1953 - mae: 1.8003 - val_loss: 4.6843 - val_mae: 1.8610\n",
      "Epoch 97/100\n",
      "9/9 [==============================] - 0s 13ms/step - loss: 6.2108 - mae: 1.8040 - val_loss: 4.7770 - val_mae: 1.8689\n",
      "Epoch 98/100\n",
      "9/9 [==============================] - 0s 11ms/step - loss: 6.1482 - mae: 1.8018 - val_loss: 4.6929 - val_mae: 1.7591\n",
      "Epoch 99/100\n",
      "9/9 [==============================] - 0s 15ms/step - loss: 6.1342 - mae: 1.8113 - val_loss: 4.4937 - val_mae: 1.7553\n",
      "Epoch 100/100\n",
      "9/9 [==============================] - 0s 20ms/step - loss: 6.0705 - mae: 1.7827 - val_loss: 4.3642 - val_mae: 1.8164\n"
     ]
    }
   ],
   "source": [
    "history = model.fit(x_train,y_train,epochs=100,validation_split=0.05)"
   ]
  },
  {
   "cell_type": "code",
   "execution_count": 180,
   "id": "af7284ce",
   "metadata": {},
   "outputs": [
    {
     "name": "stdout",
     "output_type": "stream",
     "text": [
      "Model: \"sequential_14\"\n",
      "_________________________________________________________________\n",
      " Layer (type)                Output Shape              Param #   \n",
      "=================================================================\n",
      " dense_1 (Dense)             (None, 128)               1792      \n",
      "                                                                 \n",
      " dense_2 (Dense)             (None, 64)                8256      \n",
      "                                                                 \n",
      " dense_output (Dense)        (None, 1)                 65        \n",
      "                                                                 \n",
      "=================================================================\n",
      "Total params: 10,113\n",
      "Trainable params: 10,113\n",
      "Non-trainable params: 0\n",
      "_________________________________________________________________\n"
     ]
    }
   ],
   "source": [
    "model.summary()"
   ]
  },
  {
   "cell_type": "code",
   "execution_count": 181,
   "id": "283fe76f",
   "metadata": {},
   "outputs": [
    {
     "name": "stdout",
     "output_type": "stream",
     "text": [
      "4/4 [==============================] - 0s 6ms/step\n"
     ]
    }
   ],
   "source": [
    "y_pred = model.predict(x_test)"
   ]
  },
  {
   "cell_type": "code",
   "execution_count": 182,
   "id": "703d8dd0",
   "metadata": {},
   "outputs": [],
   "source": [
    "df_output = pd.DataFrame()"
   ]
  },
  {
   "cell_type": "code",
   "execution_count": 183,
   "id": "df739e0b",
   "metadata": {},
   "outputs": [],
   "source": [
    "df_output['y_test'] = y_test\n",
    "df_output['y_pred'] = y_pred"
   ]
  },
  {
   "cell_type": "code",
   "execution_count": 184,
   "id": "744ff4bf",
   "metadata": {},
   "outputs": [
    {
     "data": {
      "text/html": [
       "<div>\n",
       "<style scoped>\n",
       "    .dataframe tbody tr th:only-of-type {\n",
       "        vertical-align: middle;\n",
       "    }\n",
       "\n",
       "    .dataframe tbody tr th {\n",
       "        vertical-align: top;\n",
       "    }\n",
       "\n",
       "    .dataframe thead th {\n",
       "        text-align: right;\n",
       "    }\n",
       "</style>\n",
       "<table border=\"1\" class=\"dataframe\">\n",
       "  <thead>\n",
       "    <tr style=\"text-align: right;\">\n",
       "      <th></th>\n",
       "      <th>y_test</th>\n",
       "      <th>y_pred</th>\n",
       "    </tr>\n",
       "  </thead>\n",
       "  <tbody>\n",
       "    <tr>\n",
       "      <th>282</th>\n",
       "      <td>46.000000</td>\n",
       "      <td>40.398342</td>\n",
       "    </tr>\n",
       "    <tr>\n",
       "      <th>317</th>\n",
       "      <td>19.799999</td>\n",
       "      <td>15.531786</td>\n",
       "    </tr>\n",
       "    <tr>\n",
       "      <th>166</th>\n",
       "      <td>50.000000</td>\n",
       "      <td>44.569523</td>\n",
       "    </tr>\n",
       "    <tr>\n",
       "      <th>182</th>\n",
       "      <td>37.900002</td>\n",
       "      <td>36.003929</td>\n",
       "    </tr>\n",
       "    <tr>\n",
       "      <th>494</th>\n",
       "      <td>24.500000</td>\n",
       "      <td>20.509560</td>\n",
       "    </tr>\n",
       "  </tbody>\n",
       "</table>\n",
       "</div>"
      ],
      "text/plain": [
       "        y_test     y_pred\n",
       "282  46.000000  40.398342\n",
       "317  19.799999  15.531786\n",
       "166  50.000000  44.569523\n",
       "182  37.900002  36.003929\n",
       "494  24.500000  20.509560"
      ]
     },
     "execution_count": 184,
     "metadata": {},
     "output_type": "execute_result"
    }
   ],
   "source": [
    "df_output.head()"
   ]
  },
  {
   "cell_type": "code",
   "execution_count": 185,
   "id": "27f14503",
   "metadata": {},
   "outputs": [
    {
     "data": {
      "text/plain": [
       "0.8035497665405273"
      ]
     },
     "execution_count": 185,
     "metadata": {},
     "output_type": "execute_result"
    }
   ],
   "source": [
    "from sklearn import metrics\n",
    "metrics.explained_variance_score(y_test,y_pred)"
   ]
  },
  {
   "cell_type": "code",
   "execution_count": null,
   "id": "e13c3205",
   "metadata": {},
   "outputs": [],
   "source": []
  },
  {
   "cell_type": "code",
   "execution_count": null,
   "id": "a960989c",
   "metadata": {},
   "outputs": [],
   "source": []
  },
  {
   "cell_type": "code",
   "execution_count": null,
   "id": "9d4746ac",
   "metadata": {},
   "outputs": [],
   "source": []
  },
  {
   "cell_type": "code",
   "execution_count": null,
   "id": "89c3747f",
   "metadata": {},
   "outputs": [],
   "source": []
  },
  {
   "cell_type": "code",
   "execution_count": null,
   "id": "85adf393",
   "metadata": {},
   "outputs": [],
   "source": []
  },
  {
   "cell_type": "code",
   "execution_count": null,
   "id": "5b0cf7e1",
   "metadata": {},
   "outputs": [],
   "source": []
  }
 ],
 "metadata": {
  "kernelspec": {
   "display_name": "Python 3 (ipykernel)",
   "language": "python",
   "name": "python3"
  },
  "language_info": {
   "codemirror_mode": {
    "name": "ipython",
    "version": 3
   },
   "file_extension": ".py",
   "mimetype": "text/x-python",
   "name": "python",
   "nbconvert_exporter": "python",
   "pygments_lexer": "ipython3",
   "version": "3.10.6"
  }
 },
 "nbformat": 4,
 "nbformat_minor": 5
}
