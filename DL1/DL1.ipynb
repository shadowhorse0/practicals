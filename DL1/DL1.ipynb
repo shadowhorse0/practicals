{
  "cells": [
    {
      "cell_type": "code",
      "source": [
        "from google.colab import drive\n",
        "drive.mount('/content/drive')"
      ],
      "metadata": {
        "colab": {
          "base_uri": "https://localhost:8080/"
        },
        "id": "tPBiByhcws-T",
        "outputId": "3906c827-0910-4b84-8df7-08d31912e59c"
      },
      "id": "tPBiByhcws-T",
      "execution_count": 1,
      "outputs": [
        {
          "output_type": "stream",
          "name": "stdout",
          "text": [
            "Mounted at /content/drive\n"
          ]
        }
      ]
    },
    {
      "cell_type": "code",
      "source": [
        "cd /content/drive/MyDrive/Colab Notebooks/short/practicals-main/DL1"
      ],
      "metadata": {
        "colab": {
          "base_uri": "https://localhost:8080/"
        },
        "id": "dOWWxSK7wrzi",
        "outputId": "7f44f75e-ccd9-4461-ba38-ff424930c29f"
      },
      "id": "dOWWxSK7wrzi",
      "execution_count": 2,
      "outputs": [
        {
          "output_type": "stream",
          "name": "stdout",
          "text": [
            "/content/drive/MyDrive/Colab Notebooks/short/practicals-main/DL1\n"
          ]
        }
      ]
    },
    {
      "cell_type": "code",
      "execution_count": 87,
      "id": "73f54057",
      "metadata": {
        "id": "73f54057"
      },
      "outputs": [],
      "source": [
        "import pandas as pd"
      ]
    },
    {
      "cell_type": "code",
      "execution_count": 88,
      "id": "86b72e79",
      "metadata": {
        "id": "86b72e79"
      },
      "outputs": [],
      "source": [
        "df = pd.read_csv('HousingData.csv')"
      ]
    },
    {
      "cell_type": "code",
      "execution_count": 89,
      "id": "cabf7ab1",
      "metadata": {
        "colab": {
          "base_uri": "https://localhost:8080/",
          "height": 206
        },
        "id": "cabf7ab1",
        "outputId": "839f31b5-99ce-4b35-ba8c-e4a40d01acff"
      },
      "outputs": [
        {
          "output_type": "execute_result",
          "data": {
            "text/plain": [
              "      CRIM    ZN  INDUS  CHAS    NOX     RM   AGE     DIS  RAD  TAX  PTRATIO  \\\n",
              "0  0.00632  18.0   2.31   0.0  0.538  6.575  65.2  4.0900    1  296     15.3   \n",
              "1  0.02731   0.0   7.07   0.0  0.469  6.421  78.9  4.9671    2  242     17.8   \n",
              "2  0.02729   0.0   7.07   0.0  0.469  7.185  61.1  4.9671    2  242     17.8   \n",
              "3  0.03237   0.0   2.18   0.0  0.458  6.998  45.8  6.0622    3  222     18.7   \n",
              "4  0.06905   0.0   2.18   0.0  0.458  7.147  54.2  6.0622    3  222     18.7   \n",
              "\n",
              "        B  LSTAT  MEDV  \n",
              "0  396.90   4.98  24.0  \n",
              "1  396.90   9.14  21.6  \n",
              "2  392.83   4.03  34.7  \n",
              "3  394.63   2.94  33.4  \n",
              "4  396.90    NaN  36.2  "
            ],
            "text/html": [
              "\n",
              "  <div id=\"df-1ccb4187-6c31-4ec4-9b38-a33fb9b8fc4c\">\n",
              "    <div class=\"colab-df-container\">\n",
              "      <div>\n",
              "<style scoped>\n",
              "    .dataframe tbody tr th:only-of-type {\n",
              "        vertical-align: middle;\n",
              "    }\n",
              "\n",
              "    .dataframe tbody tr th {\n",
              "        vertical-align: top;\n",
              "    }\n",
              "\n",
              "    .dataframe thead th {\n",
              "        text-align: right;\n",
              "    }\n",
              "</style>\n",
              "<table border=\"1\" class=\"dataframe\">\n",
              "  <thead>\n",
              "    <tr style=\"text-align: right;\">\n",
              "      <th></th>\n",
              "      <th>CRIM</th>\n",
              "      <th>ZN</th>\n",
              "      <th>INDUS</th>\n",
              "      <th>CHAS</th>\n",
              "      <th>NOX</th>\n",
              "      <th>RM</th>\n",
              "      <th>AGE</th>\n",
              "      <th>DIS</th>\n",
              "      <th>RAD</th>\n",
              "      <th>TAX</th>\n",
              "      <th>PTRATIO</th>\n",
              "      <th>B</th>\n",
              "      <th>LSTAT</th>\n",
              "      <th>MEDV</th>\n",
              "    </tr>\n",
              "  </thead>\n",
              "  <tbody>\n",
              "    <tr>\n",
              "      <th>0</th>\n",
              "      <td>0.00632</td>\n",
              "      <td>18.0</td>\n",
              "      <td>2.31</td>\n",
              "      <td>0.0</td>\n",
              "      <td>0.538</td>\n",
              "      <td>6.575</td>\n",
              "      <td>65.2</td>\n",
              "      <td>4.0900</td>\n",
              "      <td>1</td>\n",
              "      <td>296</td>\n",
              "      <td>15.3</td>\n",
              "      <td>396.90</td>\n",
              "      <td>4.98</td>\n",
              "      <td>24.0</td>\n",
              "    </tr>\n",
              "    <tr>\n",
              "      <th>1</th>\n",
              "      <td>0.02731</td>\n",
              "      <td>0.0</td>\n",
              "      <td>7.07</td>\n",
              "      <td>0.0</td>\n",
              "      <td>0.469</td>\n",
              "      <td>6.421</td>\n",
              "      <td>78.9</td>\n",
              "      <td>4.9671</td>\n",
              "      <td>2</td>\n",
              "      <td>242</td>\n",
              "      <td>17.8</td>\n",
              "      <td>396.90</td>\n",
              "      <td>9.14</td>\n",
              "      <td>21.6</td>\n",
              "    </tr>\n",
              "    <tr>\n",
              "      <th>2</th>\n",
              "      <td>0.02729</td>\n",
              "      <td>0.0</td>\n",
              "      <td>7.07</td>\n",
              "      <td>0.0</td>\n",
              "      <td>0.469</td>\n",
              "      <td>7.185</td>\n",
              "      <td>61.1</td>\n",
              "      <td>4.9671</td>\n",
              "      <td>2</td>\n",
              "      <td>242</td>\n",
              "      <td>17.8</td>\n",
              "      <td>392.83</td>\n",
              "      <td>4.03</td>\n",
              "      <td>34.7</td>\n",
              "    </tr>\n",
              "    <tr>\n",
              "      <th>3</th>\n",
              "      <td>0.03237</td>\n",
              "      <td>0.0</td>\n",
              "      <td>2.18</td>\n",
              "      <td>0.0</td>\n",
              "      <td>0.458</td>\n",
              "      <td>6.998</td>\n",
              "      <td>45.8</td>\n",
              "      <td>6.0622</td>\n",
              "      <td>3</td>\n",
              "      <td>222</td>\n",
              "      <td>18.7</td>\n",
              "      <td>394.63</td>\n",
              "      <td>2.94</td>\n",
              "      <td>33.4</td>\n",
              "    </tr>\n",
              "    <tr>\n",
              "      <th>4</th>\n",
              "      <td>0.06905</td>\n",
              "      <td>0.0</td>\n",
              "      <td>2.18</td>\n",
              "      <td>0.0</td>\n",
              "      <td>0.458</td>\n",
              "      <td>7.147</td>\n",
              "      <td>54.2</td>\n",
              "      <td>6.0622</td>\n",
              "      <td>3</td>\n",
              "      <td>222</td>\n",
              "      <td>18.7</td>\n",
              "      <td>396.90</td>\n",
              "      <td>NaN</td>\n",
              "      <td>36.2</td>\n",
              "    </tr>\n",
              "  </tbody>\n",
              "</table>\n",
              "</div>\n",
              "      <button class=\"colab-df-convert\" onclick=\"convertToInteractive('df-1ccb4187-6c31-4ec4-9b38-a33fb9b8fc4c')\"\n",
              "              title=\"Convert this dataframe to an interactive table.\"\n",
              "              style=\"display:none;\">\n",
              "        \n",
              "  <svg xmlns=\"http://www.w3.org/2000/svg\" height=\"24px\"viewBox=\"0 0 24 24\"\n",
              "       width=\"24px\">\n",
              "    <path d=\"M0 0h24v24H0V0z\" fill=\"none\"/>\n",
              "    <path d=\"M18.56 5.44l.94 2.06.94-2.06 2.06-.94-2.06-.94-.94-2.06-.94 2.06-2.06.94zm-11 1L8.5 8.5l.94-2.06 2.06-.94-2.06-.94L8.5 2.5l-.94 2.06-2.06.94zm10 10l.94 2.06.94-2.06 2.06-.94-2.06-.94-.94-2.06-.94 2.06-2.06.94z\"/><path d=\"M17.41 7.96l-1.37-1.37c-.4-.4-.92-.59-1.43-.59-.52 0-1.04.2-1.43.59L10.3 9.45l-7.72 7.72c-.78.78-.78 2.05 0 2.83L4 21.41c.39.39.9.59 1.41.59.51 0 1.02-.2 1.41-.59l7.78-7.78 2.81-2.81c.8-.78.8-2.07 0-2.86zM5.41 20L4 18.59l7.72-7.72 1.47 1.35L5.41 20z\"/>\n",
              "  </svg>\n",
              "      </button>\n",
              "      \n",
              "  <style>\n",
              "    .colab-df-container {\n",
              "      display:flex;\n",
              "      flex-wrap:wrap;\n",
              "      gap: 12px;\n",
              "    }\n",
              "\n",
              "    .colab-df-convert {\n",
              "      background-color: #E8F0FE;\n",
              "      border: none;\n",
              "      border-radius: 50%;\n",
              "      cursor: pointer;\n",
              "      display: none;\n",
              "      fill: #1967D2;\n",
              "      height: 32px;\n",
              "      padding: 0 0 0 0;\n",
              "      width: 32px;\n",
              "    }\n",
              "\n",
              "    .colab-df-convert:hover {\n",
              "      background-color: #E2EBFA;\n",
              "      box-shadow: 0px 1px 2px rgba(60, 64, 67, 0.3), 0px 1px 3px 1px rgba(60, 64, 67, 0.15);\n",
              "      fill: #174EA6;\n",
              "    }\n",
              "\n",
              "    [theme=dark] .colab-df-convert {\n",
              "      background-color: #3B4455;\n",
              "      fill: #D2E3FC;\n",
              "    }\n",
              "\n",
              "    [theme=dark] .colab-df-convert:hover {\n",
              "      background-color: #434B5C;\n",
              "      box-shadow: 0px 1px 3px 1px rgba(0, 0, 0, 0.15);\n",
              "      filter: drop-shadow(0px 1px 2px rgba(0, 0, 0, 0.3));\n",
              "      fill: #FFFFFF;\n",
              "    }\n",
              "  </style>\n",
              "\n",
              "      <script>\n",
              "        const buttonEl =\n",
              "          document.querySelector('#df-1ccb4187-6c31-4ec4-9b38-a33fb9b8fc4c button.colab-df-convert');\n",
              "        buttonEl.style.display =\n",
              "          google.colab.kernel.accessAllowed ? 'block' : 'none';\n",
              "\n",
              "        async function convertToInteractive(key) {\n",
              "          const element = document.querySelector('#df-1ccb4187-6c31-4ec4-9b38-a33fb9b8fc4c');\n",
              "          const dataTable =\n",
              "            await google.colab.kernel.invokeFunction('convertToInteractive',\n",
              "                                                     [key], {});\n",
              "          if (!dataTable) return;\n",
              "\n",
              "          const docLinkHtml = 'Like what you see? Visit the ' +\n",
              "            '<a target=\"_blank\" href=https://colab.research.google.com/notebooks/data_table.ipynb>data table notebook</a>'\n",
              "            + ' to learn more about interactive tables.';\n",
              "          element.innerHTML = '';\n",
              "          dataTable['output_type'] = 'display_data';\n",
              "          await google.colab.output.renderOutput(dataTable, element);\n",
              "          const docLink = document.createElement('div');\n",
              "          docLink.innerHTML = docLinkHtml;\n",
              "          element.appendChild(docLink);\n",
              "        }\n",
              "      </script>\n",
              "    </div>\n",
              "  </div>\n",
              "  "
            ]
          },
          "metadata": {},
          "execution_count": 89
        }
      ],
      "source": [
        "df.head()"
      ]
    },
    {
      "cell_type": "code",
      "execution_count": 90,
      "id": "72aed391",
      "metadata": {
        "id": "72aed391"
      },
      "outputs": [],
      "source": [
        "df.dropna(inplace=True)"
      ]
    },
    {
      "cell_type": "code",
      "execution_count": 92,
      "id": "bb31f559",
      "metadata": {
        "id": "bb31f559"
      },
      "outputs": [],
      "source": [
        "df_x = df.drop(['MEDV'],axis=1)"
      ]
    },
    {
      "cell_type": "code",
      "execution_count": 93,
      "id": "7509e4db",
      "metadata": {
        "id": "7509e4db"
      },
      "outputs": [],
      "source": [
        "df_y = df['MEDV']"
      ]
    },
    {
      "cell_type": "code",
      "execution_count": 94,
      "id": "8ee40339",
      "metadata": {
        "id": "8ee40339"
      },
      "outputs": [],
      "source": [
        "from sklearn.model_selection import train_test_split"
      ]
    },
    {
      "cell_type": "code",
      "execution_count": 95,
      "id": "c81968c6",
      "metadata": {
        "id": "c81968c6"
      },
      "outputs": [],
      "source": [
        "x_train,x_test,y_train,y_test = train_test_split(df_x,df_y,test_size=0.3,random_state=123)"
      ]
    },
    {
      "cell_type": "code",
      "execution_count": 96,
      "id": "aa861ba2",
      "metadata": {
        "id": "aa861ba2"
      },
      "outputs": [],
      "source": [
        "mean = x_train.mean(axis=0)\n",
        "std = x_train.std(axis=0)\n",
        "x_train = (x_train-mean)/std\n",
        "x_test = (x_test - mean)/std"
      ]
    },
    {
      "cell_type": "code",
      "execution_count": 97,
      "id": "70dc0291",
      "metadata": {
        "id": "70dc0291"
      },
      "outputs": [],
      "source": [
        "x_train = x_train.astype('float32')\n",
        "x_test = x_test.astype('float32')\n",
        "y_train = y_train.astype('float32')\n",
        "y_test = y_test.astype('float32')"
      ]
    },
    {
      "cell_type": "code",
      "execution_count": 98,
      "id": "53ecef02",
      "metadata": {
        "id": "53ecef02"
      },
      "outputs": [],
      "source": [
        "import tensorflow as tf\n",
        "model = tf.keras.Sequential([\n",
        "    tf.keras.layers.Dense(128, activation = 'relu'),\n",
        "    tf.keras.layers.Dense(64, activation = 'relu'),\n",
        "    tf.keras.layers.Dense(1)\n",
        "])\n",
        "\n",
        "model.compile(\n",
        "    optimizer = 'adam',\n",
        "    loss='mse',\n",
        "    metrics=['mae']\n",
        "    )\n"
      ]
    },
    {
      "cell_type": "code",
      "execution_count": 99,
      "id": "d107c95c",
      "metadata": {
        "colab": {
          "base_uri": "https://localhost:8080/"
        },
        "id": "d107c95c",
        "outputId": "ceb4a6ec-1bf8-4e77-a14b-f055c991b618"
      },
      "outputs": [
        {
          "output_type": "stream",
          "name": "stdout",
          "text": [
            "Epoch 1/100\n",
            "9/9 [==============================] - 1s 23ms/step - loss: 543.5004 - mae: 21.4531 - val_loss: 527.7125 - val_mae: 21.1275\n",
            "Epoch 2/100\n",
            "9/9 [==============================] - 0s 8ms/step - loss: 485.3178 - mae: 20.0751 - val_loss: 463.8530 - val_mae: 19.5355\n",
            "Epoch 3/100\n",
            "9/9 [==============================] - 0s 5ms/step - loss: 419.8017 - mae: 18.3868 - val_loss: 386.0240 - val_mae: 17.4968\n",
            "Epoch 4/100\n",
            "9/9 [==============================] - 0s 5ms/step - loss: 340.9355 - mae: 16.3006 - val_loss: 295.1775 - val_mae: 14.9363\n",
            "Epoch 5/100\n",
            "9/9 [==============================] - 0s 7ms/step - loss: 249.7154 - mae: 13.7431 - val_loss: 201.7318 - val_mae: 11.9506\n",
            "Epoch 6/100\n",
            "9/9 [==============================] - 0s 5ms/step - loss: 164.8372 - mae: 10.7685 - val_loss: 121.3722 - val_mae: 8.8961\n",
            "Epoch 7/100\n",
            "9/9 [==============================] - 0s 8ms/step - loss: 95.4827 - mae: 7.9962 - val_loss: 78.2971 - val_mae: 6.8849\n",
            "Epoch 8/100\n",
            "9/9 [==============================] - 0s 8ms/step - loss: 63.9598 - mae: 6.3280 - val_loss: 63.2864 - val_mae: 5.7853\n",
            "Epoch 9/100\n",
            "9/9 [==============================] - 0s 5ms/step - loss: 48.1410 - mae: 5.2876 - val_loss: 50.8413 - val_mae: 5.0247\n",
            "Epoch 10/100\n",
            "9/9 [==============================] - 0s 7ms/step - loss: 37.4729 - mae: 4.5476 - val_loss: 38.7928 - val_mae: 4.4338\n",
            "Epoch 11/100\n",
            "9/9 [==============================] - 0s 5ms/step - loss: 28.5267 - mae: 3.9509 - val_loss: 32.0592 - val_mae: 4.1299\n",
            "Epoch 12/100\n",
            "9/9 [==============================] - 0s 7ms/step - loss: 23.6444 - mae: 3.6087 - val_loss: 28.8105 - val_mae: 3.9351\n",
            "Epoch 13/100\n",
            "9/9 [==============================] - 0s 7ms/step - loss: 20.9867 - mae: 3.3730 - val_loss: 26.7236 - val_mae: 3.7786\n",
            "Epoch 14/100\n",
            "9/9 [==============================] - 0s 6ms/step - loss: 18.9410 - mae: 3.2073 - val_loss: 25.4663 - val_mae: 3.6764\n",
            "Epoch 15/100\n",
            "9/9 [==============================] - 0s 5ms/step - loss: 17.6644 - mae: 3.0972 - val_loss: 24.4020 - val_mae: 3.5933\n",
            "Epoch 16/100\n",
            "9/9 [==============================] - 0s 7ms/step - loss: 16.7429 - mae: 3.0085 - val_loss: 23.5652 - val_mae: 3.5116\n",
            "Epoch 17/100\n",
            "9/9 [==============================] - 0s 8ms/step - loss: 15.9127 - mae: 2.9172 - val_loss: 23.0037 - val_mae: 3.4602\n",
            "Epoch 18/100\n",
            "9/9 [==============================] - 0s 8ms/step - loss: 15.1905 - mae: 2.8290 - val_loss: 22.3659 - val_mae: 3.3892\n",
            "Epoch 19/100\n",
            "9/9 [==============================] - 0s 7ms/step - loss: 14.7618 - mae: 2.7739 - val_loss: 21.9443 - val_mae: 3.3501\n",
            "Epoch 20/100\n",
            "9/9 [==============================] - 0s 5ms/step - loss: 14.2034 - mae: 2.7228 - val_loss: 21.4273 - val_mae: 3.2890\n",
            "Epoch 21/100\n",
            "9/9 [==============================] - 0s 7ms/step - loss: 13.7999 - mae: 2.6892 - val_loss: 21.1726 - val_mae: 3.2787\n",
            "Epoch 22/100\n",
            "9/9 [==============================] - 0s 5ms/step - loss: 13.3580 - mae: 2.6444 - val_loss: 20.7582 - val_mae: 3.2323\n",
            "Epoch 23/100\n",
            "9/9 [==============================] - 0s 7ms/step - loss: 12.9857 - mae: 2.6026 - val_loss: 20.4362 - val_mae: 3.1965\n",
            "Epoch 24/100\n",
            "9/9 [==============================] - 0s 7ms/step - loss: 12.6577 - mae: 2.5619 - val_loss: 20.2518 - val_mae: 3.1702\n",
            "Epoch 25/100\n",
            "9/9 [==============================] - 0s 7ms/step - loss: 12.3653 - mae: 2.5279 - val_loss: 19.8915 - val_mae: 3.1315\n",
            "Epoch 26/100\n",
            "9/9 [==============================] - 0s 5ms/step - loss: 12.0438 - mae: 2.5098 - val_loss: 19.7013 - val_mae: 3.1186\n",
            "Epoch 27/100\n",
            "9/9 [==============================] - 0s 6ms/step - loss: 11.9517 - mae: 2.4983 - val_loss: 19.7160 - val_mae: 3.1287\n",
            "Epoch 28/100\n",
            "9/9 [==============================] - 0s 6ms/step - loss: 11.5136 - mae: 2.4525 - val_loss: 19.4352 - val_mae: 3.0867\n",
            "Epoch 29/100\n",
            "9/9 [==============================] - 0s 5ms/step - loss: 11.3291 - mae: 2.4266 - val_loss: 19.2226 - val_mae: 3.0600\n",
            "Epoch 30/100\n",
            "9/9 [==============================] - 0s 7ms/step - loss: 11.1160 - mae: 2.4021 - val_loss: 18.8781 - val_mae: 3.0118\n",
            "Epoch 31/100\n",
            "9/9 [==============================] - 0s 5ms/step - loss: 10.9863 - mae: 2.3801 - val_loss: 18.5635 - val_mae: 2.9888\n",
            "Epoch 32/100\n",
            "9/9 [==============================] - 0s 5ms/step - loss: 10.7091 - mae: 2.3767 - val_loss: 18.4209 - val_mae: 2.9895\n",
            "Epoch 33/100\n",
            "9/9 [==============================] - 0s 5ms/step - loss: 10.5886 - mae: 2.3667 - val_loss: 18.4687 - val_mae: 2.9990\n",
            "Epoch 34/100\n",
            "9/9 [==============================] - 0s 7ms/step - loss: 10.3064 - mae: 2.3305 - val_loss: 18.2982 - val_mae: 2.9523\n",
            "Epoch 35/100\n",
            "9/9 [==============================] - 0s 6ms/step - loss: 10.2370 - mae: 2.3218 - val_loss: 18.2505 - val_mae: 2.9403\n",
            "Epoch 36/100\n",
            "9/9 [==============================] - 0s 8ms/step - loss: 10.2081 - mae: 2.3069 - val_loss: 18.2924 - val_mae: 2.9631\n",
            "Epoch 37/100\n",
            "9/9 [==============================] - 0s 7ms/step - loss: 9.9066 - mae: 2.3012 - val_loss: 18.1318 - val_mae: 2.9330\n",
            "Epoch 38/100\n",
            "9/9 [==============================] - 0s 5ms/step - loss: 9.6751 - mae: 2.2669 - val_loss: 17.9337 - val_mae: 2.9065\n",
            "Epoch 39/100\n",
            "9/9 [==============================] - 0s 7ms/step - loss: 9.5041 - mae: 2.2520 - val_loss: 17.7697 - val_mae: 2.8928\n",
            "Epoch 40/100\n",
            "9/9 [==============================] - 0s 7ms/step - loss: 9.3782 - mae: 2.2405 - val_loss: 17.7489 - val_mae: 2.8966\n",
            "Epoch 41/100\n",
            "9/9 [==============================] - 0s 5ms/step - loss: 9.2662 - mae: 2.2257 - val_loss: 17.6409 - val_mae: 2.8756\n",
            "Epoch 42/100\n",
            "9/9 [==============================] - 0s 7ms/step - loss: 9.1665 - mae: 2.2057 - val_loss: 17.4582 - val_mae: 2.8348\n",
            "Epoch 43/100\n",
            "9/9 [==============================] - 0s 7ms/step - loss: 9.0452 - mae: 2.2024 - val_loss: 17.3747 - val_mae: 2.8559\n",
            "Epoch 44/100\n",
            "9/9 [==============================] - 0s 7ms/step - loss: 8.8728 - mae: 2.1908 - val_loss: 17.3738 - val_mae: 2.8561\n",
            "Epoch 45/100\n",
            "9/9 [==============================] - 0s 5ms/step - loss: 8.8893 - mae: 2.1783 - val_loss: 17.3606 - val_mae: 2.8284\n",
            "Epoch 46/100\n",
            "9/9 [==============================] - 0s 4ms/step - loss: 8.7210 - mae: 2.1645 - val_loss: 17.2266 - val_mae: 2.8341\n",
            "Epoch 47/100\n",
            "9/9 [==============================] - 0s 4ms/step - loss: 8.6489 - mae: 2.1626 - val_loss: 17.2464 - val_mae: 2.8356\n",
            "Epoch 48/100\n",
            "9/9 [==============================] - 0s 4ms/step - loss: 8.4761 - mae: 2.1282 - val_loss: 17.1907 - val_mae: 2.8163\n",
            "Epoch 49/100\n",
            "9/9 [==============================] - 0s 4ms/step - loss: 8.3729 - mae: 2.1117 - val_loss: 17.2053 - val_mae: 2.8175\n",
            "Epoch 50/100\n",
            "9/9 [==============================] - 0s 4ms/step - loss: 8.2995 - mae: 2.1081 - val_loss: 16.9596 - val_mae: 2.7966\n",
            "Epoch 51/100\n",
            "9/9 [==============================] - 0s 6ms/step - loss: 8.2025 - mae: 2.0985 - val_loss: 16.9855 - val_mae: 2.8141\n",
            "Epoch 52/100\n",
            "9/9 [==============================] - 0s 6ms/step - loss: 8.0732 - mae: 2.0837 - val_loss: 16.7665 - val_mae: 2.7717\n",
            "Epoch 53/100\n",
            "9/9 [==============================] - 0s 6ms/step - loss: 7.9785 - mae: 2.0614 - val_loss: 16.6632 - val_mae: 2.7605\n",
            "Epoch 54/100\n",
            "9/9 [==============================] - 0s 4ms/step - loss: 7.9037 - mae: 2.0549 - val_loss: 16.5741 - val_mae: 2.7540\n",
            "Epoch 55/100\n",
            "9/9 [==============================] - 0s 7ms/step - loss: 7.8476 - mae: 2.0477 - val_loss: 16.6920 - val_mae: 2.7720\n",
            "Epoch 56/100\n",
            "9/9 [==============================] - 0s 6ms/step - loss: 7.7349 - mae: 2.0369 - val_loss: 16.6352 - val_mae: 2.7590\n",
            "Epoch 57/100\n",
            "9/9 [==============================] - 0s 6ms/step - loss: 7.6534 - mae: 2.0217 - val_loss: 16.5373 - val_mae: 2.7430\n",
            "Epoch 58/100\n",
            "9/9 [==============================] - 0s 6ms/step - loss: 7.5630 - mae: 2.0103 - val_loss: 16.5164 - val_mae: 2.7372\n",
            "Epoch 59/100\n",
            "9/9 [==============================] - 0s 4ms/step - loss: 7.4974 - mae: 1.9832 - val_loss: 16.3722 - val_mae: 2.7247\n",
            "Epoch 60/100\n",
            "9/9 [==============================] - 0s 6ms/step - loss: 7.4085 - mae: 1.9855 - val_loss: 16.4315 - val_mae: 2.7307\n",
            "Epoch 61/100\n",
            "9/9 [==============================] - 0s 4ms/step - loss: 7.3726 - mae: 1.9882 - val_loss: 16.3886 - val_mae: 2.7160\n",
            "Epoch 62/100\n",
            "9/9 [==============================] - 0s 6ms/step - loss: 7.2650 - mae: 1.9718 - val_loss: 16.2943 - val_mae: 2.7189\n",
            "Epoch 63/100\n",
            "9/9 [==============================] - 0s 4ms/step - loss: 7.2579 - mae: 1.9714 - val_loss: 16.1568 - val_mae: 2.6978\n",
            "Epoch 64/100\n",
            "9/9 [==============================] - 0s 4ms/step - loss: 7.1864 - mae: 1.9616 - val_loss: 16.2742 - val_mae: 2.6971\n",
            "Epoch 65/100\n",
            "9/9 [==============================] - 0s 4ms/step - loss: 7.1106 - mae: 1.9449 - val_loss: 16.1240 - val_mae: 2.6875\n",
            "Epoch 66/100\n",
            "9/9 [==============================] - 0s 6ms/step - loss: 7.0578 - mae: 1.9253 - val_loss: 15.8621 - val_mae: 2.6458\n",
            "Epoch 67/100\n",
            "9/9 [==============================] - 0s 6ms/step - loss: 6.9200 - mae: 1.9147 - val_loss: 15.9790 - val_mae: 2.6810\n",
            "Epoch 68/100\n",
            "9/9 [==============================] - 0s 4ms/step - loss: 6.8410 - mae: 1.9085 - val_loss: 16.0904 - val_mae: 2.6854\n",
            "Epoch 69/100\n",
            "9/9 [==============================] - 0s 6ms/step - loss: 6.7636 - mae: 1.9026 - val_loss: 16.0137 - val_mae: 2.6712\n",
            "Epoch 70/100\n",
            "9/9 [==============================] - 0s 6ms/step - loss: 6.8379 - mae: 1.8950 - val_loss: 15.8151 - val_mae: 2.6364\n",
            "Epoch 71/100\n",
            "9/9 [==============================] - 0s 5ms/step - loss: 6.6116 - mae: 1.8671 - val_loss: 15.8685 - val_mae: 2.6556\n",
            "Epoch 72/100\n",
            "9/9 [==============================] - 0s 9ms/step - loss: 6.5802 - mae: 1.8755 - val_loss: 15.8288 - val_mae: 2.6512\n",
            "Epoch 73/100\n",
            "9/9 [==============================] - 0s 13ms/step - loss: 6.5708 - mae: 1.8664 - val_loss: 15.6586 - val_mae: 2.6204\n",
            "Epoch 74/100\n",
            "9/9 [==============================] - 0s 8ms/step - loss: 6.4532 - mae: 1.8480 - val_loss: 15.5537 - val_mae: 2.6190\n",
            "Epoch 75/100\n",
            "9/9 [==============================] - 0s 6ms/step - loss: 6.4053 - mae: 1.8415 - val_loss: 15.7140 - val_mae: 2.6472\n",
            "Epoch 76/100\n",
            "9/9 [==============================] - 0s 8ms/step - loss: 6.4127 - mae: 1.8511 - val_loss: 15.4923 - val_mae: 2.6149\n",
            "Epoch 77/100\n",
            "9/9 [==============================] - 0s 6ms/step - loss: 6.2555 - mae: 1.8076 - val_loss: 15.5706 - val_mae: 2.6148\n",
            "Epoch 78/100\n",
            "9/9 [==============================] - 0s 6ms/step - loss: 6.2388 - mae: 1.8147 - val_loss: 15.4390 - val_mae: 2.6022\n",
            "Epoch 79/100\n",
            "9/9 [==============================] - 0s 4ms/step - loss: 6.1199 - mae: 1.7994 - val_loss: 15.5443 - val_mae: 2.6174\n",
            "Epoch 80/100\n",
            "9/9 [==============================] - 0s 4ms/step - loss: 6.1087 - mae: 1.7953 - val_loss: 15.4605 - val_mae: 2.5994\n",
            "Epoch 81/100\n",
            "9/9 [==============================] - 0s 4ms/step - loss: 6.1261 - mae: 1.7959 - val_loss: 15.4261 - val_mae: 2.6001\n",
            "Epoch 82/100\n",
            "9/9 [==============================] - 0s 4ms/step - loss: 5.9263 - mae: 1.7655 - val_loss: 15.4529 - val_mae: 2.5929\n",
            "Epoch 83/100\n",
            "9/9 [==============================] - 0s 6ms/step - loss: 5.9356 - mae: 1.7777 - val_loss: 15.5045 - val_mae: 2.6080\n",
            "Epoch 84/100\n",
            "9/9 [==============================] - 0s 4ms/step - loss: 5.8633 - mae: 1.7638 - val_loss: 15.4592 - val_mae: 2.5951\n",
            "Epoch 85/100\n",
            "9/9 [==============================] - 0s 6ms/step - loss: 5.8744 - mae: 1.7541 - val_loss: 15.3006 - val_mae: 2.5642\n",
            "Epoch 86/100\n",
            "9/9 [==============================] - 0s 4ms/step - loss: 5.7729 - mae: 1.7551 - val_loss: 15.3843 - val_mae: 2.5982\n",
            "Epoch 87/100\n",
            "9/9 [==============================] - 0s 4ms/step - loss: 5.6759 - mae: 1.7352 - val_loss: 15.2287 - val_mae: 2.5770\n",
            "Epoch 88/100\n",
            "9/9 [==============================] - 0s 5ms/step - loss: 5.6609 - mae: 1.7387 - val_loss: 15.5137 - val_mae: 2.6089\n",
            "Epoch 89/100\n",
            "9/9 [==============================] - 0s 4ms/step - loss: 5.6801 - mae: 1.7298 - val_loss: 15.2812 - val_mae: 2.5661\n",
            "Epoch 90/100\n",
            "9/9 [==============================] - 0s 4ms/step - loss: 5.6038 - mae: 1.7327 - val_loss: 15.5165 - val_mae: 2.6071\n",
            "Epoch 91/100\n",
            "9/9 [==============================] - 0s 4ms/step - loss: 5.4947 - mae: 1.7064 - val_loss: 15.3939 - val_mae: 2.5765\n",
            "Epoch 92/100\n",
            "9/9 [==============================] - 0s 4ms/step - loss: 5.4063 - mae: 1.6987 - val_loss: 15.4179 - val_mae: 2.5944\n",
            "Epoch 93/100\n",
            "9/9 [==============================] - 0s 6ms/step - loss: 5.4312 - mae: 1.7115 - val_loss: 15.3488 - val_mae: 2.5742\n",
            "Epoch 94/100\n",
            "9/9 [==============================] - 0s 6ms/step - loss: 5.2923 - mae: 1.6839 - val_loss: 15.3530 - val_mae: 2.5741\n",
            "Epoch 95/100\n",
            "9/9 [==============================] - 0s 4ms/step - loss: 5.2937 - mae: 1.6824 - val_loss: 15.3796 - val_mae: 2.5787\n",
            "Epoch 96/100\n",
            "9/9 [==============================] - 0s 6ms/step - loss: 5.2289 - mae: 1.6940 - val_loss: 15.1997 - val_mae: 2.5543\n",
            "Epoch 97/100\n",
            "9/9 [==============================] - 0s 4ms/step - loss: 5.1406 - mae: 1.6678 - val_loss: 15.2307 - val_mae: 2.5705\n",
            "Epoch 98/100\n",
            "9/9 [==============================] - 0s 6ms/step - loss: 5.1814 - mae: 1.6789 - val_loss: 15.2371 - val_mae: 2.5732\n",
            "Epoch 99/100\n",
            "9/9 [==============================] - 0s 4ms/step - loss: 5.0496 - mae: 1.6526 - val_loss: 15.3088 - val_mae: 2.5662\n",
            "Epoch 100/100\n",
            "9/9 [==============================] - 0s 6ms/step - loss: 5.0283 - mae: 1.6420 - val_loss: 15.2236 - val_mae: 2.5534\n"
          ]
        }
      ],
      "source": [
        "history = model.fit(x_train,\n",
        "                    y_train,\n",
        "                    epochs=100,\n",
        "                    validation_data=(x_test,y_test)\n",
        "                  )"
      ]
    },
    {
      "cell_type": "code",
      "source": [
        "pd.DataFrame(history.history).plot(figsize=(6,4),xlabel=\"Epochs\",ylabel=\"loss\", title='Loss curves')"
      ],
      "metadata": {
        "colab": {
          "base_uri": "https://localhost:8080/",
          "height": 428
        },
        "id": "e2bx0Bfp1k39",
        "outputId": "c7efb986-76fa-4ca6-f87a-e9e6cdbfd11d"
      },
      "id": "e2bx0Bfp1k39",
      "execution_count": 106,
      "outputs": [
        {
          "output_type": "execute_result",
          "data": {
            "text/plain": [
              "<Axes: title={'center': 'Loss curves'}, xlabel='Epochs', ylabel='loss'>"
            ]
          },
          "metadata": {},
          "execution_count": 106
        },
        {
          "output_type": "display_data",
          "data": {
            "text/plain": [
              "<Figure size 600x400 with 1 Axes>"
            ],
            "image/png": "[encoded data removed]"
          },
          "metadata": {}
        }
      ]
    },
    {
      "cell_type": "code",
      "execution_count": 101,
      "id": "283fe76f",
      "metadata": {
        "colab": {
          "base_uri": "https://localhost:8080/"
        },
        "id": "283fe76f",
        "outputId": "de7c5168-e009-4139-8d82-cd25f71203b0"
      },
      "outputs": [
        {
          "output_type": "stream",
          "name": "stdout",
          "text": [
            "4/4 [==============================] - 0s 2ms/step\n"
          ]
        }
      ],
      "source": [
        "y_pred = model.predict(x_test)"
      ]
    },
    {
      "cell_type": "code",
      "execution_count": 107,
      "id": "703d8dd0",
      "metadata": {
        "colab": {
          "base_uri": "https://localhost:8080/",
          "height": 206
        },
        "id": "703d8dd0",
        "outputId": "62e3db82-3302-446b-973b-93a3cf786cc9"
      },
      "outputs": [
        {
          "output_type": "execute_result",
          "data": {
            "text/plain": [
              "        y_test     y_pred\n",
              "282  46.000000  38.241741\n",
              "317  19.799999  15.508954\n",
              "166  50.000000  44.691048\n",
              "182  37.900002  35.067646\n",
              "494  24.500000  20.918468"
            ],
            "text/html": [
              "\n",
              "  <div id=\"df-bc750bce-1a16-4091-a292-69efcfa3bc20\">\n",
              "    <div class=\"colab-df-container\">\n",
              "      <div>\n",
              "<style scoped>\n",
              "    .dataframe tbody tr th:only-of-type {\n",
              "        vertical-align: middle;\n",
              "    }\n",
              "\n",
              "    .dataframe tbody tr th {\n",
              "        vertical-align: top;\n",
              "    }\n",
              "\n",
              "    .dataframe thead th {\n",
              "        text-align: right;\n",
              "    }\n",
              "</style>\n",
              "<table border=\"1\" class=\"dataframe\">\n",
              "  <thead>\n",
              "    <tr style=\"text-align: right;\">\n",
              "      <th></th>\n",
              "      <th>y_test</th>\n",
              "      <th>y_pred</th>\n",
              "    </tr>\n",
              "  </thead>\n",
              "  <tbody>\n",
              "    <tr>\n",
              "      <th>282</th>\n",
              "      <td>46.000000</td>\n",
              "      <td>38.241741</td>\n",
              "    </tr>\n",
              "    <tr>\n",
              "      <th>317</th>\n",
              "      <td>19.799999</td>\n",
              "      <td>15.508954</td>\n",
              "    </tr>\n",
              "    <tr>\n",
              "      <th>166</th>\n",
              "      <td>50.000000</td>\n",
              "      <td>44.691048</td>\n",
              "    </tr>\n",
              "    <tr>\n",
              "      <th>182</th>\n",
              "      <td>37.900002</td>\n",
              "      <td>35.067646</td>\n",
              "    </tr>\n",
              "    <tr>\n",
              "      <th>494</th>\n",
              "      <td>24.500000</td>\n",
              "      <td>20.918468</td>\n",
              "    </tr>\n",
              "  </tbody>\n",
              "</table>\n",
              "</div>\n",
              "      <button class=\"colab-df-convert\" onclick=\"convertToInteractive('df-bc750bce-1a16-4091-a292-69efcfa3bc20')\"\n",
              "              title=\"Convert this dataframe to an interactive table.\"\n",
              "              style=\"display:none;\">\n",
              "        \n",
              "  <svg xmlns=\"http://www.w3.org/2000/svg\" height=\"24px\"viewBox=\"0 0 24 24\"\n",
              "       width=\"24px\">\n",
              "    <path d=\"M0 0h24v24H0V0z\" fill=\"none\"/>\n",
              "    <path d=\"M18.56 5.44l.94 2.06.94-2.06 2.06-.94-2.06-.94-.94-2.06-.94 2.06-2.06.94zm-11 1L8.5 8.5l.94-2.06 2.06-.94-2.06-.94L8.5 2.5l-.94 2.06-2.06.94zm10 10l.94 2.06.94-2.06 2.06-.94-2.06-.94-.94-2.06-.94 2.06-2.06.94z\"/><path d=\"M17.41 7.96l-1.37-1.37c-.4-.4-.92-.59-1.43-.59-.52 0-1.04.2-1.43.59L10.3 9.45l-7.72 7.72c-.78.78-.78 2.05 0 2.83L4 21.41c.39.39.9.59 1.41.59.51 0 1.02-.2 1.41-.59l7.78-7.78 2.81-2.81c.8-.78.8-2.07 0-2.86zM5.41 20L4 18.59l7.72-7.72 1.47 1.35L5.41 20z\"/>\n",
              "  </svg>\n",
              "      </button>\n",
              "      \n",
              "  <style>\n",
              "    .colab-df-container {\n",
              "      display:flex;\n",
              "      flex-wrap:wrap;\n",
              "      gap: 12px;\n",
              "    }\n",
              "\n",
              "    .colab-df-convert {\n",
              "      background-color: #E8F0FE;\n",
              "      border: none;\n",
              "      border-radius: 50%;\n",
              "      cursor: pointer;\n",
              "      display: none;\n",
              "      fill: #1967D2;\n",
              "      height: 32px;\n",
              "      padding: 0 0 0 0;\n",
              "      width: 32px;\n",
              "    }\n",
              "\n",
              "    .colab-df-convert:hover {\n",
              "      background-color: #E2EBFA;\n",
              "      box-shadow: 0px 1px 2px rgba(60, 64, 67, 0.3), 0px 1px 3px 1px rgba(60, 64, 67, 0.15);\n",
              "      fill: #174EA6;\n",
              "    }\n",
              "\n",
              "    [theme=dark] .colab-df-convert {\n",
              "      background-color: #3B4455;\n",
              "      fill: #D2E3FC;\n",
              "    }\n",
              "\n",
              "    [theme=dark] .colab-df-convert:hover {\n",
              "      background-color: #434B5C;\n",
              "      box-shadow: 0px 1px 3px 1px rgba(0, 0, 0, 0.15);\n",
              "      filter: drop-shadow(0px 1px 2px rgba(0, 0, 0, 0.3));\n",
              "      fill: #FFFFFF;\n",
              "    }\n",
              "  </style>\n",
              "\n",
              "      <script>\n",
              "        const buttonEl =\n",
              "          document.querySelector('#df-bc750bce-1a16-4091-a292-69efcfa3bc20 button.colab-df-convert');\n",
              "        buttonEl.style.display =\n",
              "          google.colab.kernel.accessAllowed ? 'block' : 'none';\n",
              "\n",
              "        async function convertToInteractive(key) {\n",
              "          const element = document.querySelector('#df-bc750bce-1a16-4091-a292-69efcfa3bc20');\n",
              "          const dataTable =\n",
              "            await google.colab.kernel.invokeFunction('convertToInteractive',\n",
              "                                                     [key], {});\n",
              "          if (!dataTable) return;\n",
              "\n",
              "          const docLinkHtml = 'Like what you see? Visit the ' +\n",
              "            '<a target=\"_blank\" href=https://colab.research.google.com/notebooks/data_table.ipynb>data table notebook</a>'\n",
              "            + ' to learn more about interactive tables.';\n",
              "          element.innerHTML = '';\n",
              "          dataTable['output_type'] = 'display_data';\n",
              "          await google.colab.output.renderOutput(dataTable, element);\n",
              "          const docLink = document.createElement('div');\n",
              "          docLink.innerHTML = docLinkHtml;\n",
              "          element.appendChild(docLink);\n",
              "        }\n",
              "      </script>\n",
              "    </div>\n",
              "  </div>\n",
              "  "
            ]
          },
          "metadata": {},
          "execution_count": 107
        }
      ],
      "source": [
        "df_output = pd.DataFrame()\n",
        "df_output['y_test'] = y_test\n",
        "df_output['y_pred'] = y_pred\n",
        "df_output.head()"
      ]
    },
    {
      "cell_type": "code",
      "execution_count": 108,
      "id": "27f14503",
      "metadata": {
        "colab": {
          "base_uri": "https://localhost:8080/"
        },
        "id": "27f14503",
        "outputId": "9d3e97b1-a90e-44cf-9d9a-247b479f729d"
      },
      "outputs": [
        {
          "output_type": "execute_result",
          "data": {
            "text/plain": [
              "0.8164455890655518"
            ]
          },
          "metadata": {},
          "execution_count": 108
        }
      ],
      "source": [
        "from sklearn import metrics\n",
        "metrics.explained_variance_score(y_test,y_pred)"
      ]
    },
    {
      "cell_type": "code",
      "source": [],
      "metadata": {
        "id": "wOy0mudbyos2"
      },
      "id": "wOy0mudbyos2",
      "execution_count": 105,
      "outputs": []
    }
  ],
  "metadata": {
    "kernelspec": {
      "display_name": "Python 3 (ipykernel)",
      "language": "python",
      "name": "python3"
    },
    "language_info": {
      "codemirror_mode": {
        "name": "ipython",
        "version": 3
      },
      "file_extension": ".py",
      "mimetype": "text/x-python",
      "name": "python",
      "nbconvert_exporter": "python",
      "pygments_lexer": "ipython3",
      "version": "3.10.6"
    },
    "colab": {
      "provenance": []
    }
  },
  "nbformat": 4,
  "nbformat_minor": 5
}