{
 "cells": [
  {
   "cell_type": "code",
   "execution_count": 2,
   "id": "dad17d5a",
   "metadata": {},
   "outputs": [],
   "source": [
    "import pandas as pd"
   ]
  },
  {
   "cell_type": "code",
   "execution_count": 3,
   "id": "7429ed45",
   "metadata": {},
   "outputs": [
    {
     "name": "stdout",
     "output_type": "stream",
     "text": [
      "DL3.ipynb  fashion-mnist_test.csv  fashion-mnist_train.csv\r\n"
     ]
    }
   ],
   "source": [
    "ls"
   ]
  },
  {
   "cell_type": "code",
   "execution_count": 4,
   "id": "28671135",
   "metadata": {},
   "outputs": [],
   "source": [
    "df = pd.read_csv('fashion-mnist_train.csv')"
   ]
  },
  {
   "cell_type": "code",
   "execution_count": 5,
   "id": "8ac4ae46",
   "metadata": {},
   "outputs": [],
   "source": [
    "df_x = df.drop(['label'],axis=1)"
   ]
  },
  {
   "cell_type": "code",
   "execution_count": 6,
   "id": "d89da684",
   "metadata": {},
   "outputs": [],
   "source": [
    "df_y = df['label']"
   ]
  },
  {
   "cell_type": "code",
   "execution_count": 7,
   "id": "54e6e558",
   "metadata": {},
   "outputs": [
    {
     "data": {
      "text/html": [
       "<div>\n",
       "<style scoped>\n",
       "    .dataframe tbody tr th:only-of-type {\n",
       "        vertical-align: middle;\n",
       "    }\n",
       "\n",
       "    .dataframe tbody tr th {\n",
       "        vertical-align: top;\n",
       "    }\n",
       "\n",
       "    .dataframe thead th {\n",
       "        text-align: right;\n",
       "    }\n",
       "</style>\n",
       "<table border=\"1\" class=\"dataframe\">\n",
       "  <thead>\n",
       "    <tr style=\"text-align: right;\">\n",
       "      <th></th>\n",
       "      <th>label</th>\n",
       "      <th>pixel1</th>\n",
       "      <th>pixel2</th>\n",
       "      <th>pixel3</th>\n",
       "      <th>pixel4</th>\n",
       "      <th>pixel5</th>\n",
       "      <th>pixel6</th>\n",
       "      <th>pixel7</th>\n",
       "      <th>pixel8</th>\n",
       "      <th>pixel9</th>\n",
       "      <th>...</th>\n",
       "      <th>pixel775</th>\n",
       "      <th>pixel776</th>\n",
       "      <th>pixel777</th>\n",
       "      <th>pixel778</th>\n",
       "      <th>pixel779</th>\n",
       "      <th>pixel780</th>\n",
       "      <th>pixel781</th>\n",
       "      <th>pixel782</th>\n",
       "      <th>pixel783</th>\n",
       "      <th>pixel784</th>\n",
       "    </tr>\n",
       "  </thead>\n",
       "  <tbody>\n",
       "    <tr>\n",
       "      <th>0</th>\n",
       "      <td>2</td>\n",
       "      <td>0</td>\n",
       "      <td>0</td>\n",
       "      <td>0</td>\n",
       "      <td>0</td>\n",
       "      <td>0</td>\n",
       "      <td>0</td>\n",
       "      <td>0</td>\n",
       "      <td>0</td>\n",
       "      <td>0</td>\n",
       "      <td>...</td>\n",
       "      <td>0</td>\n",
       "      <td>0</td>\n",
       "      <td>0</td>\n",
       "      <td>0</td>\n",
       "      <td>0</td>\n",
       "      <td>0</td>\n",
       "      <td>0</td>\n",
       "      <td>0</td>\n",
       "      <td>0</td>\n",
       "      <td>0</td>\n",
       "    </tr>\n",
       "    <tr>\n",
       "      <th>1</th>\n",
       "      <td>9</td>\n",
       "      <td>0</td>\n",
       "      <td>0</td>\n",
       "      <td>0</td>\n",
       "      <td>0</td>\n",
       "      <td>0</td>\n",
       "      <td>0</td>\n",
       "      <td>0</td>\n",
       "      <td>0</td>\n",
       "      <td>0</td>\n",
       "      <td>...</td>\n",
       "      <td>0</td>\n",
       "      <td>0</td>\n",
       "      <td>0</td>\n",
       "      <td>0</td>\n",
       "      <td>0</td>\n",
       "      <td>0</td>\n",
       "      <td>0</td>\n",
       "      <td>0</td>\n",
       "      <td>0</td>\n",
       "      <td>0</td>\n",
       "    </tr>\n",
       "    <tr>\n",
       "      <th>2</th>\n",
       "      <td>6</td>\n",
       "      <td>0</td>\n",
       "      <td>0</td>\n",
       "      <td>0</td>\n",
       "      <td>0</td>\n",
       "      <td>0</td>\n",
       "      <td>0</td>\n",
       "      <td>0</td>\n",
       "      <td>5</td>\n",
       "      <td>0</td>\n",
       "      <td>...</td>\n",
       "      <td>0</td>\n",
       "      <td>0</td>\n",
       "      <td>0</td>\n",
       "      <td>30</td>\n",
       "      <td>43</td>\n",
       "      <td>0</td>\n",
       "      <td>0</td>\n",
       "      <td>0</td>\n",
       "      <td>0</td>\n",
       "      <td>0</td>\n",
       "    </tr>\n",
       "    <tr>\n",
       "      <th>3</th>\n",
       "      <td>0</td>\n",
       "      <td>0</td>\n",
       "      <td>0</td>\n",
       "      <td>0</td>\n",
       "      <td>1</td>\n",
       "      <td>2</td>\n",
       "      <td>0</td>\n",
       "      <td>0</td>\n",
       "      <td>0</td>\n",
       "      <td>0</td>\n",
       "      <td>...</td>\n",
       "      <td>3</td>\n",
       "      <td>0</td>\n",
       "      <td>0</td>\n",
       "      <td>0</td>\n",
       "      <td>0</td>\n",
       "      <td>1</td>\n",
       "      <td>0</td>\n",
       "      <td>0</td>\n",
       "      <td>0</td>\n",
       "      <td>0</td>\n",
       "    </tr>\n",
       "    <tr>\n",
       "      <th>4</th>\n",
       "      <td>3</td>\n",
       "      <td>0</td>\n",
       "      <td>0</td>\n",
       "      <td>0</td>\n",
       "      <td>0</td>\n",
       "      <td>0</td>\n",
       "      <td>0</td>\n",
       "      <td>0</td>\n",
       "      <td>0</td>\n",
       "      <td>0</td>\n",
       "      <td>...</td>\n",
       "      <td>0</td>\n",
       "      <td>0</td>\n",
       "      <td>0</td>\n",
       "      <td>0</td>\n",
       "      <td>0</td>\n",
       "      <td>0</td>\n",
       "      <td>0</td>\n",
       "      <td>0</td>\n",
       "      <td>0</td>\n",
       "      <td>0</td>\n",
       "    </tr>\n",
       "  </tbody>\n",
       "</table>\n",
       "<p>5 rows × 785 columns</p>\n",
       "</div>"
      ],
      "text/plain": [
       "   label  pixel1  pixel2  pixel3  pixel4  pixel5  pixel6  pixel7  pixel8   \n",
       "0      2       0       0       0       0       0       0       0       0  \\\n",
       "1      9       0       0       0       0       0       0       0       0   \n",
       "2      6       0       0       0       0       0       0       0       5   \n",
       "3      0       0       0       0       1       2       0       0       0   \n",
       "4      3       0       0       0       0       0       0       0       0   \n",
       "\n",
       "   pixel9  ...  pixel775  pixel776  pixel777  pixel778  pixel779  pixel780   \n",
       "0       0  ...         0         0         0         0         0         0  \\\n",
       "1       0  ...         0         0         0         0         0         0   \n",
       "2       0  ...         0         0         0        30        43         0   \n",
       "3       0  ...         3         0         0         0         0         1   \n",
       "4       0  ...         0         0         0         0         0         0   \n",
       "\n",
       "   pixel781  pixel782  pixel783  pixel784  \n",
       "0         0         0         0         0  \n",
       "1         0         0         0         0  \n",
       "2         0         0         0         0  \n",
       "3         0         0         0         0  \n",
       "4         0         0         0         0  \n",
       "\n",
       "[5 rows x 785 columns]"
      ]
     },
     "execution_count": 7,
     "metadata": {},
     "output_type": "execute_result"
    }
   ],
   "source": [
    "df.head()"
   ]
  },
  {
   "cell_type": "code",
   "execution_count": 8,
   "id": "8bbf9ba8",
   "metadata": {},
   "outputs": [],
   "source": [
    "from sklearn.model_selection import train_test_split"
   ]
  },
  {
   "cell_type": "code",
   "execution_count": 9,
   "id": "04087ae3",
   "metadata": {},
   "outputs": [],
   "source": [
    "x_train,x_test,y_train,y_test = train_test_split(df_x,df_y,test_size=0.3,random_state=123)"
   ]
  },
  {
   "cell_type": "code",
   "execution_count": 10,
   "id": "58813eec",
   "metadata": {},
   "outputs": [
    {
     "name": "stdout",
     "output_type": "stream",
     "text": [
      "(42000, 784)\n",
      "(18000, 784)\n",
      "(42000,)\n",
      "(18000,)\n"
     ]
    }
   ],
   "source": [
    "print(x_train.shape)\n",
    "print(x_test.shape)\n",
    "print(y_train.shape)\n",
    "print(y_test.shape)"
   ]
  },
  {
   "cell_type": "code",
   "execution_count": 11,
   "id": "f736043f",
   "metadata": {},
   "outputs": [],
   "source": [
    "x_train = x_train.to_numpy().reshape(42000,28,28,1)\n",
    "x_test = x_test.to_numpy().reshape(18000,28,28,1)\n",
    "y_train = y_train.to_numpy()\n",
    "y_test = y_test.to_numpy()"
   ]
  },
  {
   "cell_type": "code",
   "execution_count": 12,
   "id": "c367464c",
   "metadata": {},
   "outputs": [
    {
     "name": "stdout",
     "output_type": "stream",
     "text": [
      "(42000, 28, 28, 1)\n",
      "(18000, 28, 28, 1)\n",
      "(42000,)\n",
      "(18000,)\n"
     ]
    }
   ],
   "source": [
    "print(x_train.shape)\n",
    "print(x_test.shape)\n",
    "print(y_train.shape)\n",
    "print(y_test.shape)"
   ]
  },
  {
   "cell_type": "code",
   "execution_count": 13,
   "id": "f757851d",
   "metadata": {},
   "outputs": [
    {
     "data": {
      "text/plain": [
       "<matplotlib.image.AxesImage at 0x7f14b48bf3a0>"
      ]
     },
     "execution_count": 13,
     "metadata": {},
     "output_type": "execute_result"
    },
    {
     "data": {
      "image/png": "[encoded data removed]",
      "text/plain": [
       "<Figure size 640x480 with 1 Axes>"
      ]
     },
     "metadata": {},
     "output_type": "display_data"
    }
   ],
   "source": [
    "import matplotlib.pyplot as plt\n",
    "plt.imshow(x_train[0])"
   ]
  },
  {
   "cell_type": "code",
   "execution_count": 14,
   "id": "ec292142",
   "metadata": {},
   "outputs": [
    {
     "data": {
      "text/plain": [
       "<matplotlib.image.AxesImage at 0x7f14b47cb6a0>"
      ]
     },
     "execution_count": 14,
     "metadata": {},
     "output_type": "execute_result"
    },
    {
     "data": {
      "image/png": "[encoded data removed]",
      "text/plain": [
       "<Figure size 640x480 with 1 Axes>"
      ]
     },
     "metadata": {},
     "output_type": "display_data"
    }
   ],
   "source": [
    "plt.imshow(x_train[1])"
   ]
  },
  {
   "cell_type": "code",
   "execution_count": 15,
   "id": "80656e4e",
   "metadata": {},
   "outputs": [],
   "source": [
    "x_train = x_train.astype('float32')/255.0\n",
    "x_test = x_test.astype('float32')/255.0"
   ]
  },
  {
   "cell_type": "code",
   "execution_count": 16,
   "id": "a2a67f87",
   "metadata": {},
   "outputs": [
    {
     "name": "stderr",
     "output_type": "stream",
     "text": [
      "2023-05-28 12:11:09.905886: I tensorflow/tsl/cuda/cudart_stub.cc:28] Could not find cuda drivers on your machine, GPU will not be used.\n",
      "2023-05-28 12:11:10.316619: I tensorflow/tsl/cuda/cudart_stub.cc:28] Could not find cuda drivers on your machine, GPU will not be used.\n",
      "2023-05-28 12:11:10.317830: I tensorflow/core/platform/cpu_feature_guard.cc:182] This TensorFlow binary is optimized to use available CPU instructions in performance-critical operations.\n",
      "To enable the following instructions: AVX2, in other operations, rebuild TensorFlow with the appropriate compiler flags.\n",
      "2023-05-28 12:11:12.582528: W tensorflow/compiler/tf2tensorrt/utils/py_utils.cc:38] TF-TRT Warning: Could not find TensorRT\n"
     ]
    }
   ],
   "source": [
    "import tensorflow as tf\n",
    "from tensorflow import keras\n",
    "from tensorflow.keras.models import Sequential\n",
    "from tensorflow.keras.layers import Conv2D, MaxPooling2D, Dense,Flatten,Dropout\n",
    "from tensorflow.keras.optimizers import Adam"
   ]
  },
  {
   "cell_type": "code",
   "execution_count": 17,
   "id": "e9a8bd45",
   "metadata": {},
   "outputs": [],
   "source": [
    "cnn_model = Sequential()\n",
    "cnn_model.add(Conv2D(32,3,3,input_shape=(28,28,1),activation='relu'))\n",
    "cnn_model.add(MaxPooling2D(pool_size=(2,2)))\n",
    "cnn_model.add(Flatten())\n",
    "cnn_model.add(Dense(32,activation='relu'))\n",
    "cnn_model.add(Dense(17,activation='sigmoid'))\n",
    "\n",
    "cnn_model.compile(\n",
    "    loss='sparse_categorical_crossentropy',\n",
    "    optimizer = Adam(learning_rate=0.001),\n",
    "    metrics = ['accuracy']\n",
    ")"
   ]
  },
  {
   "cell_type": "code",
   "execution_count": 18,
   "id": "932036d7",
   "metadata": {},
   "outputs": [
    {
     "name": "stdout",
     "output_type": "stream",
     "text": [
      "Epoch 1/50\n"
     ]
    },
    {
     "name": "stderr",
     "output_type": "stream",
     "text": [
      "2023-05-28 12:11:15.480887: W tensorflow/tsl/framework/cpu_allocator_impl.cc:83] Allocation of 131712000 exceeds 10% of free system memory.\n"
     ]
    },
    {
     "name": "stdout",
     "output_type": "stream",
     "text": [
      "1298/1313 [============================>.] - ETA: 0s - loss: 0.7064 - accuracy: 0.7539"
     ]
    },
    {
     "name": "stderr",
     "output_type": "stream",
     "text": [
      "2023-05-28 12:11:21.705104: W tensorflow/tsl/framework/cpu_allocator_impl.cc:83] Allocation of 56448000 exceeds 10% of free system memory.\n"
     ]
    },
    {
     "name": "stdout",
     "output_type": "stream",
     "text": [
      "1313/1313 [==============================] - 8s 5ms/step - loss: 0.7039 - accuracy: 0.7547 - val_loss: 0.5369 - val_accuracy: 0.8011\n",
      "Epoch 2/50\n",
      "1313/1313 [==============================] - 6s 5ms/step - loss: 0.4851 - accuracy: 0.8246 - val_loss: 0.4608 - val_accuracy: 0.8306\n",
      "Epoch 3/50\n",
      "1313/1313 [==============================] - 6s 5ms/step - loss: 0.4453 - accuracy: 0.8389 - val_loss: 0.4355 - val_accuracy: 0.8437\n",
      "Epoch 4/50\n",
      "1313/1313 [==============================] - 6s 5ms/step - loss: 0.4198 - accuracy: 0.8473 - val_loss: 0.4276 - val_accuracy: 0.8403\n",
      "Epoch 5/50\n",
      "1313/1313 [==============================] - 6s 5ms/step - loss: 0.4037 - accuracy: 0.8517 - val_loss: 0.4343 - val_accuracy: 0.8354\n",
      "Epoch 6/50\n",
      "1313/1313 [==============================] - 7s 6ms/step - loss: 0.3914 - accuracy: 0.8571 - val_loss: 0.3924 - val_accuracy: 0.8548\n",
      "Epoch 7/50\n",
      "1313/1313 [==============================] - 8s 6ms/step - loss: 0.3789 - accuracy: 0.8626 - val_loss: 0.3908 - val_accuracy: 0.8570\n",
      "Epoch 8/50\n",
      "1313/1313 [==============================] - 8s 6ms/step - loss: 0.3697 - accuracy: 0.8644 - val_loss: 0.3970 - val_accuracy: 0.8547\n",
      "Epoch 9/50\n",
      "1313/1313 [==============================] - 7s 6ms/step - loss: 0.3627 - accuracy: 0.8662 - val_loss: 0.3796 - val_accuracy: 0.8608\n",
      "Epoch 10/50\n",
      "1313/1313 [==============================] - 7s 6ms/step - loss: 0.3525 - accuracy: 0.8715 - val_loss: 0.3767 - val_accuracy: 0.8624\n",
      "Epoch 11/50\n",
      "1313/1313 [==============================] - 8s 6ms/step - loss: 0.3455 - accuracy: 0.8724 - val_loss: 0.3682 - val_accuracy: 0.8663\n",
      "Epoch 12/50\n",
      "1313/1313 [==============================] - 7s 6ms/step - loss: 0.3393 - accuracy: 0.8738 - val_loss: 0.3636 - val_accuracy: 0.8683\n",
      "Epoch 13/50\n",
      "1313/1313 [==============================] - 8s 6ms/step - loss: 0.3317 - accuracy: 0.8757 - val_loss: 0.3693 - val_accuracy: 0.8644\n",
      "Epoch 14/50\n",
      "1313/1313 [==============================] - 8s 6ms/step - loss: 0.3255 - accuracy: 0.8778 - val_loss: 0.3753 - val_accuracy: 0.8628\n",
      "Epoch 15/50\n",
      "1313/1313 [==============================] - 6s 5ms/step - loss: 0.3187 - accuracy: 0.8829 - val_loss: 0.3713 - val_accuracy: 0.8642\n",
      "Epoch 16/50\n",
      "1313/1313 [==============================] - 6s 5ms/step - loss: 0.3129 - accuracy: 0.8843 - val_loss: 0.3559 - val_accuracy: 0.8700\n",
      "Epoch 17/50\n",
      "1313/1313 [==============================] - 6s 5ms/step - loss: 0.3083 - accuracy: 0.8864 - val_loss: 0.3550 - val_accuracy: 0.8703\n",
      "Epoch 18/50\n",
      "1313/1313 [==============================] - 6s 4ms/step - loss: 0.3023 - accuracy: 0.8876 - val_loss: 0.3493 - val_accuracy: 0.8721\n",
      "Epoch 19/50\n",
      "1313/1313 [==============================] - 8s 6ms/step - loss: 0.2987 - accuracy: 0.8886 - val_loss: 0.3498 - val_accuracy: 0.8729\n",
      "Epoch 20/50\n",
      "1313/1313 [==============================] - 9s 7ms/step - loss: 0.2933 - accuracy: 0.8914 - val_loss: 0.3598 - val_accuracy: 0.8683\n",
      "Epoch 21/50\n",
      "1313/1313 [==============================] - 8s 6ms/step - loss: 0.2886 - accuracy: 0.8930 - val_loss: 0.3496 - val_accuracy: 0.8709\n",
      "Epoch 22/50\n",
      "1313/1313 [==============================] - 8s 6ms/step - loss: 0.2840 - accuracy: 0.8940 - val_loss: 0.3468 - val_accuracy: 0.8748\n",
      "Epoch 23/50\n",
      "1313/1313 [==============================] - 7s 5ms/step - loss: 0.2788 - accuracy: 0.8954 - val_loss: 0.3584 - val_accuracy: 0.8697\n",
      "Epoch 24/50\n",
      "1313/1313 [==============================] - 6s 5ms/step - loss: 0.2749 - accuracy: 0.8960 - val_loss: 0.3643 - val_accuracy: 0.8666\n",
      "Epoch 25/50\n",
      "1313/1313 [==============================] - 10s 7ms/step - loss: 0.2713 - accuracy: 0.8981 - val_loss: 0.3484 - val_accuracy: 0.8745\n",
      "Epoch 26/50\n",
      "1313/1313 [==============================] - 6s 5ms/step - loss: 0.2679 - accuracy: 0.9000 - val_loss: 0.3505 - val_accuracy: 0.8762\n",
      "Epoch 27/50\n",
      "1313/1313 [==============================] - 6s 5ms/step - loss: 0.2637 - accuracy: 0.9017 - val_loss: 0.3774 - val_accuracy: 0.8644\n",
      "Epoch 28/50\n",
      "1313/1313 [==============================] - 6s 5ms/step - loss: 0.2608 - accuracy: 0.9025 - val_loss: 0.3535 - val_accuracy: 0.8728\n",
      "Epoch 29/50\n",
      "1313/1313 [==============================] - 7s 5ms/step - loss: 0.2583 - accuracy: 0.9041 - val_loss: 0.3515 - val_accuracy: 0.8729\n",
      "Epoch 30/50\n",
      "1313/1313 [==============================] - 11s 8ms/step - loss: 0.2543 - accuracy: 0.9046 - val_loss: 0.3512 - val_accuracy: 0.8748\n",
      "Epoch 31/50\n",
      "1313/1313 [==============================] - 9s 7ms/step - loss: 0.2504 - accuracy: 0.9058 - val_loss: 0.3846 - val_accuracy: 0.8653\n",
      "Epoch 32/50\n",
      "1313/1313 [==============================] - 7s 5ms/step - loss: 0.2479 - accuracy: 0.9068 - val_loss: 0.3704 - val_accuracy: 0.8687\n",
      "Epoch 33/50\n",
      "1313/1313 [==============================] - 8s 6ms/step - loss: 0.2446 - accuracy: 0.9074 - val_loss: 0.3575 - val_accuracy: 0.8720\n",
      "Epoch 34/50\n",
      "1313/1313 [==============================] - 8s 6ms/step - loss: 0.2424 - accuracy: 0.9089 - val_loss: 0.3682 - val_accuracy: 0.8718\n",
      "Epoch 35/50\n",
      "1313/1313 [==============================] - 8s 6ms/step - loss: 0.2394 - accuracy: 0.9102 - val_loss: 0.3632 - val_accuracy: 0.8714\n",
      "Epoch 36/50\n",
      "1313/1313 [==============================] - 8s 6ms/step - loss: 0.2361 - accuracy: 0.9122 - val_loss: 0.3603 - val_accuracy: 0.8742\n",
      "Epoch 37/50\n",
      "1313/1313 [==============================] - 8s 6ms/step - loss: 0.2339 - accuracy: 0.9130 - val_loss: 0.3738 - val_accuracy: 0.8707\n",
      "Epoch 38/50\n",
      "1313/1313 [==============================] - 8s 6ms/step - loss: 0.2305 - accuracy: 0.9145 - val_loss: 0.3857 - val_accuracy: 0.8676\n",
      "Epoch 39/50\n",
      "1313/1313 [==============================] - 9s 7ms/step - loss: 0.2277 - accuracy: 0.9151 - val_loss: 0.3655 - val_accuracy: 0.8719\n",
      "Epoch 40/50\n",
      "1313/1313 [==============================] - 8s 6ms/step - loss: 0.2272 - accuracy: 0.9153 - val_loss: 0.3834 - val_accuracy: 0.8703\n",
      "Epoch 41/50\n",
      "1313/1313 [==============================] - 8s 6ms/step - loss: 0.2230 - accuracy: 0.9162 - val_loss: 0.3719 - val_accuracy: 0.8738\n",
      "Epoch 42/50\n",
      "1313/1313 [==============================] - 8s 6ms/step - loss: 0.2211 - accuracy: 0.9167 - val_loss: 0.4151 - val_accuracy: 0.8580\n",
      "Epoch 43/50\n",
      "1313/1313 [==============================] - 8s 6ms/step - loss: 0.2196 - accuracy: 0.9175 - val_loss: 0.3706 - val_accuracy: 0.8739\n",
      "Epoch 44/50\n",
      "1313/1313 [==============================] - 7s 6ms/step - loss: 0.2151 - accuracy: 0.9198 - val_loss: 0.3831 - val_accuracy: 0.8697\n",
      "Epoch 45/50\n",
      "1313/1313 [==============================] - 8s 6ms/step - loss: 0.2147 - accuracy: 0.9206 - val_loss: 0.3819 - val_accuracy: 0.8718\n",
      "Epoch 46/50\n",
      "1313/1313 [==============================] - 9s 7ms/step - loss: 0.2126 - accuracy: 0.9205 - val_loss: 0.3867 - val_accuracy: 0.8718\n",
      "Epoch 47/50\n",
      "1313/1313 [==============================] - 8s 6ms/step - loss: 0.2101 - accuracy: 0.9202 - val_loss: 0.3795 - val_accuracy: 0.8722\n",
      "Epoch 48/50\n",
      "1313/1313 [==============================] - 8s 6ms/step - loss: 0.2086 - accuracy: 0.9220 - val_loss: 0.3866 - val_accuracy: 0.8723\n",
      "Epoch 49/50\n",
      "1313/1313 [==============================] - 8s 6ms/step - loss: 0.2051 - accuracy: 0.9236 - val_loss: 0.3866 - val_accuracy: 0.8710\n",
      "Epoch 50/50\n",
      "1313/1313 [==============================] - 8s 6ms/step - loss: 0.2037 - accuracy: 0.9241 - val_loss: 0.3883 - val_accuracy: 0.8699\n"
     ]
    },
    {
     "data": {
      "text/plain": [
       "<keras.callbacks.History at 0x7f14b7f8ee30>"
      ]
     },
     "execution_count": 18,
     "metadata": {},
     "output_type": "execute_result"
    }
   ],
   "source": [
    "cnn_model.fit(\n",
    "    x_train,\n",
    "    y_train,\n",
    "    epochs=50,\n",
    "    validation_data=(x_test,y_test)\n",
    ")"
   ]
  },
  {
   "cell_type": "code",
   "execution_count": 26,
   "id": "e94133c2",
   "metadata": {},
   "outputs": [
    {
     "name": "stdout",
     "output_type": "stream",
     "text": [
      " 48/563 [=>............................] - ETA: 1s"
     ]
    },
    {
     "name": "stderr",
     "output_type": "stream",
     "text": [
      "2023-05-28 12:19:18.061078: W tensorflow/tsl/framework/cpu_allocator_impl.cc:83] Allocation of 56448000 exceeds 10% of free system memory.\n"
     ]
    },
    {
     "name": "stdout",
     "output_type": "stream",
     "text": [
      "563/563 [==============================] - 1s 2ms/step\n"
     ]
    }
   ],
   "source": [
    "import numpy as np\n",
    "y_pred = np.argmax(cnn_model.predict(x_test),axis=-1)"
   ]
  },
  {
   "cell_type": "code",
   "execution_count": 34,
   "id": "4277d065",
   "metadata": {},
   "outputs": [],
   "source": [
    "df_output = pd.DataFrame()\n",
    "df_output['y_test'] = pd.DataFrame(y_test)\n",
    "df_output['y_pred'] = pd.DataFrame(y_pred)\n"
   ]
  },
  {
   "cell_type": "code",
   "execution_count": 36,
   "id": "78477a0b",
   "metadata": {},
   "outputs": [
    {
     "data": {
      "text/html": [
       "<div>\n",
       "<style scoped>\n",
       "    .dataframe tbody tr th:only-of-type {\n",
       "        vertical-align: middle;\n",
       "    }\n",
       "\n",
       "    .dataframe tbody tr th {\n",
       "        vertical-align: top;\n",
       "    }\n",
       "\n",
       "    .dataframe thead th {\n",
       "        text-align: right;\n",
       "    }\n",
       "</style>\n",
       "<table border=\"1\" class=\"dataframe\">\n",
       "  <thead>\n",
       "    <tr style=\"text-align: right;\">\n",
       "      <th></th>\n",
       "      <th>y_test</th>\n",
       "      <th>y_pred</th>\n",
       "    </tr>\n",
       "  </thead>\n",
       "  <tbody>\n",
       "    <tr>\n",
       "      <th>0</th>\n",
       "      <td>2</td>\n",
       "      <td>2</td>\n",
       "    </tr>\n",
       "    <tr>\n",
       "      <th>1</th>\n",
       "      <td>6</td>\n",
       "      <td>6</td>\n",
       "    </tr>\n",
       "    <tr>\n",
       "      <th>2</th>\n",
       "      <td>1</td>\n",
       "      <td>1</td>\n",
       "    </tr>\n",
       "    <tr>\n",
       "      <th>3</th>\n",
       "      <td>0</td>\n",
       "      <td>0</td>\n",
       "    </tr>\n",
       "    <tr>\n",
       "      <th>4</th>\n",
       "      <td>2</td>\n",
       "      <td>6</td>\n",
       "    </tr>\n",
       "  </tbody>\n",
       "</table>\n",
       "</div>"
      ],
      "text/plain": [
       "   y_test  y_pred\n",
       "0       2       2\n",
       "1       6       6\n",
       "2       1       1\n",
       "3       0       0\n",
       "4       2       6"
      ]
     },
     "execution_count": 36,
     "metadata": {},
     "output_type": "execute_result"
    }
   ],
   "source": [
    "df_output.head()"
   ]
  },
  {
   "cell_type": "code",
   "execution_count": 29,
   "id": "95fca251",
   "metadata": {},
   "outputs": [
    {
     "data": {
      "text/plain": [
       "array([2, 6, 1, ..., 4, 1, 7])"
      ]
     },
     "execution_count": 29,
     "metadata": {},
     "output_type": "execute_result"
    }
   ],
   "source": [
    "y_pred"
   ]
  },
  {
   "cell_type": "code",
   "execution_count": 38,
   "id": "f30c10ac",
   "metadata": {},
   "outputs": [
    {
     "data": {
      "text/plain": [
       "0.8700555555555556"
      ]
     },
     "execution_count": 38,
     "metadata": {},
     "output_type": "execute_result"
    }
   ],
   "source": [
    "import sklearn\n",
    "sklearn.metrics.accuracy_score(y_test,y_pred)"
   ]
  },
  {
   "cell_type": "code",
   "execution_count": null,
   "id": "01436c03",
   "metadata": {},
   "outputs": [],
   "source": []
  }
 ],
 "metadata": {
  "kernelspec": {
   "display_name": "Python 3 (ipykernel)",
   "language": "python",
   "name": "python3"
  },
  "language_info": {
   "codemirror_mode": {
    "name": "ipython",
    "version": 3
   },
   "file_extension": ".py",
   "mimetype": "text/x-python",
   "name": "python",
   "nbconvert_exporter": "python",
   "pygments_lexer": "ipython3",
   "version": "3.10.6"
  }
 },
 "nbformat": 4,
 "nbformat_minor": 5
}
